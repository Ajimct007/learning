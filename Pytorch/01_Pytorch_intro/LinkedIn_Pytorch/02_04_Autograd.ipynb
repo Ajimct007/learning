{
  "cells": [
    {
      "cell_type": "code",
      "execution_count": 1,
      "id": "05ab72f3",
      "metadata": {
        "id": "05ab72f3"
      },
      "outputs": [],
      "source": [
        "import torch\n",
        "from torch.autograd import Variable"
      ]
    },
    {
      "cell_type": "code",
      "execution_count": 2,
      "id": "8202eefc",
      "metadata": {
        "id": "8202eefc",
        "outputId": "9978ed95-30f0-4b42-f13e-ab51bae3058c",
        "colab": {
          "base_uri": "https://localhost:8080/"
        }
      },
      "outputs": [
        {
          "output_type": "stream",
          "name": "stdout",
          "text": [
            "tensor([[1., 1.],\n",
            "        [1., 1.]], requires_grad=True)\n"
          ]
        }
      ],
      "source": [
        "x = Variable(torch.ones(2, 2), requires_grad=True)\n",
        "print(x)"
      ]
    },
    {
      "cell_type": "code",
      "execution_count": 3,
      "id": "9c8f20dc",
      "metadata": {
        "id": "9c8f20dc",
        "outputId": "580f9421-5de7-460f-e332-2524db1cf058",
        "colab": {
          "base_uri": "https://localhost:8080/"
        }
      },
      "outputs": [
        {
          "output_type": "stream",
          "name": "stdout",
          "text": [
            "tensor([[3., 3.],\n",
            "        [3., 3.]], grad_fn=<AddBackward0>)\n"
          ]
        }
      ],
      "source": [
        "y = x + 2\n",
        "print(y)"
      ]
    },
    {
      "cell_type": "code",
      "execution_count": 4,
      "id": "e764a823",
      "metadata": {
        "id": "e764a823",
        "outputId": "2cd5a25f-e332-431e-dc50-b6ebeafbbc43",
        "colab": {
          "base_uri": "https://localhost:8080/"
        }
      },
      "outputs": [
        {
          "output_type": "stream",
          "name": "stdout",
          "text": [
            "<AddBackward0 object at 0x7f7b1eadb010>\n"
          ]
        }
      ],
      "source": [
        "print(y.grad_fn)"
      ]
    },
    {
      "cell_type": "code",
      "execution_count": 5,
      "id": "8931c408",
      "metadata": {
        "id": "8931c408",
        "outputId": "3278c6e9-bffa-4818-f9d0-721444f4685a",
        "colab": {
          "base_uri": "https://localhost:8080/"
        }
      },
      "outputs": [
        {
          "output_type": "stream",
          "name": "stdout",
          "text": [
            "tensor([[27., 27.],\n",
            "        [27., 27.]], grad_fn=<MulBackward0>) tensor(27., grad_fn=<MeanBackward0>)\n"
          ]
        }
      ],
      "source": [
        "z = y * y * 3\n",
        "out = z.mean()\n",
        "print(z, out)"
      ]
    },
    {
      "cell_type": "code",
      "execution_count": 6,
      "id": "f721c1ad",
      "metadata": {
        "id": "f721c1ad"
      },
      "outputs": [],
      "source": [
        "out.backward()"
      ]
    },
    {
      "cell_type": "code",
      "execution_count": 7,
      "id": "12e753f4",
      "metadata": {
        "id": "12e753f4",
        "outputId": "a6b968cd-88be-4ae4-c456-3865fb647769",
        "colab": {
          "base_uri": "https://localhost:8080/"
        }
      },
      "outputs": [
        {
          "output_type": "stream",
          "name": "stdout",
          "text": [
            "tensor([[4.5000, 4.5000],\n",
            "        [4.5000, 4.5000]])\n"
          ]
        }
      ],
      "source": [
        "print(x.grad)"
      ]
    }
  ],
  "metadata": {
    "kernelspec": {
      "display_name": "Python 3 (ipykernel)",
      "language": "python",
      "name": "python3"
    },
    "language_info": {
      "codemirror_mode": {
        "name": "ipython",
        "version": 3
      },
      "file_extension": ".py",
      "mimetype": "text/x-python",
      "name": "python",
      "nbconvert_exporter": "python",
      "pygments_lexer": "ipython3",
      "version": "3.7.3"
    },
    "colab": {
      "provenance": []
    }
  },
  "nbformat": 4,
  "nbformat_minor": 5
}
{
  "cells": [
    {
      "cell_type": "code",
      "execution_count": 1,
      "id": "8cfc8afe",
      "metadata": {
        "id": "8cfc8afe"
      },
      "outputs": [],
      "source": [
        "import torch"
      ]
    },
    {
      "cell_type": "code",
      "execution_count": 2,
      "id": "924a04d3",
      "metadata": {
        "colab": {
          "base_uri": "https://localhost:8080/"
        },
        "id": "924a04d3",
        "outputId": "af3a4142-cba7-4a80-84e4-6374c413f21b"
      },
      "outputs": [
        {
          "output_type": "stream",
          "name": "stdout",
          "text": [
            "tensor([ 2, 16])\n",
            "torch.Size([2])\n",
            "1\n"
          ]
        }
      ],
      "source": [
        "# simple operation rehash\n",
        "u = torch.tensor([2, 4])\n",
        "v = torch.tensor([1, 4])\n",
        "w = u * v\n",
        "print(w)\n",
        "print(w.shape)\n",
        "print(w.ndim)"
      ]
    },
    {
      "cell_type": "code",
      "execution_count": 3,
      "id": "72959981",
      "metadata": {
        "colab": {
          "base_uri": "https://localhost:8080/"
        },
        "id": "72959981",
        "outputId": "e3ab2c49-cc40-4cf6-a375-59d937a34d68"
      },
      "outputs": [
        {
          "output_type": "stream",
          "name": "stdout",
          "text": [
            "tensor([[[0.9672, 0.6612],\n",
            "         [0.2161, 0.7842],\n",
            "         [0.1996, 0.3523]],\n",
            "\n",
            "        [[0.9672, 0.6612],\n",
            "         [0.2161, 0.7842],\n",
            "         [0.1996, 0.3523]],\n",
            "\n",
            "        [[0.9672, 0.6612],\n",
            "         [0.2161, 0.7842],\n",
            "         [0.1996, 0.3523]],\n",
            "\n",
            "        [[0.9672, 0.6612],\n",
            "         [0.2161, 0.7842],\n",
            "         [0.1996, 0.3523]]])\n"
          ]
        }
      ],
      "source": [
        "# broadcasting rules\n",
        "a =     torch.ones(4, 3, 2)\n",
        "b = a * torch.rand(   3, 2) # 3rd & 2nd dims identical to a, dim 1 absent\n",
        "print(b)"
      ]
    },
    {
      "cell_type": "code",
      "execution_count": 4,
      "id": "af224367",
      "metadata": {
        "colab": {
          "base_uri": "https://localhost:8080/"
        },
        "id": "af224367",
        "outputId": "0b09b615-923c-4eb5-ba2e-cdfaceae2e3f"
      },
      "outputs": [
        {
          "output_type": "stream",
          "name": "stdout",
          "text": [
            "tensor([[[0.0196, 0.0196],\n",
            "         [0.3533, 0.3533],\n",
            "         [0.9691, 0.9691]],\n",
            "\n",
            "        [[0.0196, 0.0196],\n",
            "         [0.3533, 0.3533],\n",
            "         [0.9691, 0.9691]],\n",
            "\n",
            "        [[0.0196, 0.0196],\n",
            "         [0.3533, 0.3533],\n",
            "         [0.9691, 0.9691]],\n",
            "\n",
            "        [[0.0196, 0.0196],\n",
            "         [0.3533, 0.3533],\n",
            "         [0.9691, 0.9691]]])\n"
          ]
        }
      ],
      "source": [
        "c = a * torch.rand(   3, 1) # 3rd dim = 1, 2nd dim identical to a\n",
        "print(c)"
      ]
    },
    {
      "cell_type": "code",
      "execution_count": 5,
      "id": "5d94717e",
      "metadata": {
        "colab": {
          "base_uri": "https://localhost:8080/"
        },
        "id": "5d94717e",
        "outputId": "627cdb3b-ced3-4ac0-cc3f-6b5160be22b4"
      },
      "outputs": [
        {
          "output_type": "stream",
          "name": "stdout",
          "text": [
            "tensor([[[0.6008, 0.4497],\n",
            "         [0.6008, 0.4497],\n",
            "         [0.6008, 0.4497]],\n",
            "\n",
            "        [[0.6008, 0.4497],\n",
            "         [0.6008, 0.4497],\n",
            "         [0.6008, 0.4497]],\n",
            "\n",
            "        [[0.6008, 0.4497],\n",
            "         [0.6008, 0.4497],\n",
            "         [0.6008, 0.4497]],\n",
            "\n",
            "        [[0.6008, 0.4497],\n",
            "         [0.6008, 0.4497],\n",
            "         [0.6008, 0.4497]]])\n"
          ]
        }
      ],
      "source": [
        "d = a * torch.rand(   1, 2) # 3rd dim identical to a, 2nd dim = 1\n",
        "print(d)"
      ]
    },
    {
      "cell_type": "code",
      "execution_count": 6,
      "id": "f797b83a",
      "metadata": {
        "colab": {
          "base_uri": "https://localhost:8080/"
        },
        "id": "f797b83a",
        "outputId": "3e5f224f-8652-4532-ee1c-b27e9ae86f20"
      },
      "outputs": [
        {
          "output_type": "stream",
          "name": "stdout",
          "text": [
            "[[1. 1. 1.]\n",
            " [1. 1. 1.]]\n",
            "tensor([[1., 1., 1.],\n",
            "        [1., 1., 1.]], dtype=torch.float64)\n"
          ]
        }
      ],
      "source": [
        "# switch between ndarrays and PyTorch tensors\n",
        "import numpy as np\n",
        "numpy_array = np.ones((2, 3))\n",
        "print(numpy_array)\n",
        "\n",
        "pytorch_tensor = torch.from_numpy(numpy_array)\n",
        "print(pytorch_tensor)"
      ]
    },
    {
      "cell_type": "code",
      "execution_count": 7,
      "id": "ed8ab5a0",
      "metadata": {
        "colab": {
          "base_uri": "https://localhost:8080/"
        },
        "id": "ed8ab5a0",
        "outputId": "5823ccce-661b-443d-b3b2-765a6f22c4a2"
      },
      "outputs": [
        {
          "output_type": "stream",
          "name": "stdout",
          "text": [
            "tensor([[0.9588, 0.0217, 0.7683],\n",
            "        [0.2048, 0.8482, 0.2078]])\n",
            "[[0.95882124 0.02166641 0.7683494 ]\n",
            " [0.20484549 0.84816504 0.20775098]]\n"
          ]
        }
      ],
      "source": [
        "# reverse example of converting from PyTorch tensor into ndarray\n",
        "pytorch_rand = torch.rand(2, 3)\n",
        "print(pytorch_rand)\n",
        "\n",
        "numpy_rand = pytorch_rand.numpy()\n",
        "print(numpy_rand)"
      ]
    },
    {
      "cell_type": "code",
      "execution_count": 8,
      "id": "4f649e49",
      "metadata": {
        "colab": {
          "base_uri": "https://localhost:8080/"
        },
        "id": "4f649e49",
        "outputId": "e6b575fc-16b2-4b20-af65-c3227490e563"
      },
      "outputs": [
        {
          "output_type": "stream",
          "name": "stdout",
          "text": [
            "tensor([[ 1.,  1.,  1.],\n",
            "        [ 1., 23.,  1.]], dtype=torch.float64)\n",
            "[[ 0.95882124  0.02166641  0.7683494 ]\n",
            " [ 0.20484549 17.          0.20775098]]\n"
          ]
        }
      ],
      "source": [
        "# using the same underlying memory\n",
        "numpy_array[1, 1] = 23\n",
        "print(pytorch_tensor)\n",
        "\n",
        "pytorch_rand[1, 1] = 17\n",
        "print(numpy_rand)"
      ]
    }
  ],
  "metadata": {
    "kernelspec": {
      "display_name": "Python 3 (ipykernel)",
      "language": "python",
      "name": "python3"
    },
    "language_info": {
      "codemirror_mode": {
        "name": "ipython",
        "version": 3
      },
      "file_extension": ".py",
      "mimetype": "text/x-python",
      "name": "python",
      "nbconvert_exporter": "python",
      "pygments_lexer": "ipython3",
      "version": "3.7.3"
    },
    "colab": {
      "provenance": []
    }
  },
  "nbformat": 4,
  "nbformat_minor": 5
}
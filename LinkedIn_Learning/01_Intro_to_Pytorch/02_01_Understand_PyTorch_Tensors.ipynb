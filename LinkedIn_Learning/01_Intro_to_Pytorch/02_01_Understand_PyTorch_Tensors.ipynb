{
  "cells": [
    {
      "cell_type": "code",
      "execution_count": 1,
      "id": "804c757e",
      "metadata": {
        "id": "804c757e"
      },
      "outputs": [],
      "source": [
        "import torch"
      ]
    },
    {
      "cell_type": "code",
      "execution_count": 2,
      "id": "2c3f1828",
      "metadata": {
        "colab": {
          "base_uri": "https://localhost:8080/"
        },
        "id": "2c3f1828",
        "outputId": "0f30c825-7fda-478b-a65a-2f72252231da"
      },
      "outputs": [
        {
          "output_type": "stream",
          "name": "stdout",
          "text": [
            "tensor(1000)\n",
            "tensor([9, 8, 7, 6])\n",
            "tensor([[1, 2, 3],\n",
            "        [7, 5, 3]])\n"
          ]
        }
      ],
      "source": [
        "# create some tensors\n",
        "t0 = torch.tensor(1000)                     # 0-D tensor\n",
        "t1 = torch.tensor([9, 8, 7, 6])             # 1-D tensor\n",
        "t2 = torch.tensor([[1, 2, 3], [7, 5, 3]])   # 2-D tensor\n",
        "\n",
        "print(t0)\n",
        "print(t1)\n",
        "print(t2)"
      ]
    },
    {
      "cell_type": "code",
      "execution_count": 3,
      "id": "c1a195e9",
      "metadata": {
        "colab": {
          "base_uri": "https://localhost:8080/"
        },
        "id": "c1a195e9",
        "outputId": "87740d40-582f-4aca-d9d2-ac69fef00562"
      },
      "outputs": [
        {
          "output_type": "stream",
          "name": "stdout",
          "text": [
            "tensor([[1, 1, 1],\n",
            "        [1, 1, 1]], dtype=torch.int16)\n"
          ]
        }
      ],
      "source": [
        "# set datatype for the tensor\n",
        "a = torch.ones((2, 3), dtype=torch.int16)\n",
        "print(a)"
      ]
    },
    {
      "cell_type": "code",
      "execution_count": 4,
      "id": "56c96cba",
      "metadata": {
        "colab": {
          "base_uri": "https://localhost:8080/",
          "height": 35
        },
        "id": "56c96cba",
        "outputId": "82ac9b42-d906-4081-e6fb-37483fd07612"
      },
      "outputs": [
        {
          "output_type": "execute_result",
          "data": {
            "text/plain": [
              "' Tensor data types\\ntorch.bool\\ntorch.int8\\ntorch.uint8\\ntorch.int16\\ntorch.int32\\ntorch.int64\\ntorch.half\\ntorch.float\\ntorch.double\\ntorch.bfloat\\n'"
            ],
            "application/vnd.google.colaboratory.intrinsic+json": {
              "type": "string"
            }
          },
          "metadata": {},
          "execution_count": 4
        }
      ],
      "source": [
        "\"\"\" Tensor data types\n",
        "torch.bool\n",
        "torch.int8\n",
        "torch.uint8\n",
        "torch.int16\n",
        "torch.int32\n",
        "torch.int64\n",
        "torch.half\n",
        "torch.float\n",
        "torch.double\n",
        "torch.bfloat\n",
        "\"\"\""
      ]
    },
    {
      "cell_type": "markdown",
      "source": [
        "While Training the model we will deal with Higher dimensions. The Neural Network only accepts the dimension which defined at the input layer while building the model.\n",
        "\n",
        "\n",
        "Dimension of the tensor is also called as Rank of the tensor"
      ],
      "metadata": {
        "id": "033QifBEWZDn"
      },
      "id": "033QifBEWZDn"
    },
    {
      "cell_type": "code",
      "execution_count": 5,
      "id": "b5f1fee4",
      "metadata": {
        "colab": {
          "base_uri": "https://localhost:8080/"
        },
        "id": "b5f1fee4",
        "outputId": "7acf4ade-d098-47cd-e2d6-fbe23ccbbd62"
      },
      "outputs": [
        {
          "output_type": "stream",
          "name": "stdout",
          "text": [
            "torch.Size([2, 3])\n",
            "torch.Size([2, 3])\n"
          ]
        }
      ],
      "source": [
        "# get the tensor size\n",
        "print(a.size())\n",
        "print(a.shape)"
      ]
    },
    {
      "cell_type": "code",
      "execution_count": 6,
      "id": "75e1883e",
      "metadata": {
        "colab": {
          "base_uri": "https://localhost:8080/"
        },
        "id": "75e1883e",
        "outputId": "fec0eff4-cda5-4643-f431-a53b203383e7"
      },
      "outputs": [
        {
          "output_type": "stream",
          "name": "stdout",
          "text": [
            "2\n",
            "2\n"
          ]
        }
      ],
      "source": [
        "# get the tensor dimension\n",
        "print(a.ndimension())\n",
        "print(a.ndim)"
      ]
    }
  ],
  "metadata": {
    "kernelspec": {
      "display_name": "Python 3 (ipykernel)",
      "language": "python",
      "name": "python3"
    },
    "language_info": {
      "codemirror_mode": {
        "name": "ipython",
        "version": 3
      },
      "file_extension": ".py",
      "mimetype": "text/x-python",
      "name": "python",
      "nbconvert_exporter": "python",
      "pygments_lexer": "ipython3",
      "version": "3.7.3"
    },
    "colab": {
      "provenance": []
    }
  },
  "nbformat": 4,
  "nbformat_minor": 5
}
{
  "cells": [
    {
      "cell_type": "code",
      "execution_count": 1,
      "id": "eb4a40c6",
      "metadata": {
        "id": "eb4a40c6"
      },
      "outputs": [],
      "source": [
        "import torch"
      ]
    },
    {
      "cell_type": "code",
      "execution_count": 2,
      "id": "0d5153fa",
      "metadata": {
        "colab": {
          "base_uri": "https://localhost:8080/"
        },
        "id": "0d5153fa",
        "outputId": "eda97a4b-fb13-4f60-8256-295de2d33efb"
      },
      "outputs": [
        {
          "output_type": "stream",
          "name": "stdout",
          "text": [
            "tensor([1., 2.])\n",
            "tensor([3., 4.])\n"
          ]
        }
      ],
      "source": [
        "# create 2 tensors\n",
        "u = torch.tensor([1.0, 2.0])\n",
        "v = torch.tensor([3.0, 4.0])\n",
        "\n",
        "print(u)\n",
        "print(v)"
      ]
    },
    {
      "cell_type": "code",
      "execution_count": 3,
      "id": "552cb174",
      "metadata": {
        "colab": {
          "base_uri": "https://localhost:8080/"
        },
        "id": "552cb174",
        "outputId": "cc85de91-a2a5-4d4a-fb2d-d41c2f652ee1"
      },
      "outputs": [
        {
          "output_type": "stream",
          "name": "stdout",
          "text": [
            "tensor([4., 6.])\n",
            "tensor([-2., -2.])\n"
          ]
        }
      ],
      "source": [
        "# perform some addition and substraction\n",
        "print(u + v)\n",
        "print(u - v)"
      ]
    },
    {
      "cell_type": "code",
      "execution_count": 4,
      "id": "18fdac71",
      "metadata": {
        "colab": {
          "base_uri": "https://localhost:8080/"
        },
        "id": "18fdac71",
        "outputId": "9b80028f-73d6-4e39-e6b0-4f22e02583f5"
      },
      "outputs": [
        {
          "output_type": "stream",
          "name": "stdout",
          "text": [
            "Common functions:\n",
            "tensor([[0.0703, 0.7168, 0.5957, 0.2864],\n",
            "        [0.9987, 0.1256, 0.0562, 0.1600]])\n",
            "tensor([[-0., -0., 1., 1.],\n",
            "        [1., 1., -0., 1.]])\n",
            "tensor([[-1., -1.,  0.,  0.],\n",
            "        [ 0.,  0., -1.,  0.]])\n",
            "tensor([[-0.0703, -0.5000,  0.5000,  0.2864],\n",
            "        [ 0.5000,  0.1256, -0.0562,  0.1600]])\n"
          ]
        }
      ],
      "source": [
        "# try some common tensor functions\n",
        "a = torch.rand(2, 4) * 2 - 1\n",
        "print('Common functions:')\n",
        "print(torch.abs(a))\n",
        "print(torch.ceil(a))\n",
        "print(torch.floor(a))\n",
        "print(torch.clamp(a, -0.5, 0.5))"
      ]
    },
    {
      "cell_type": "code",
      "execution_count": 5,
      "id": "681df036",
      "metadata": {
        "colab": {
          "base_uri": "https://localhost:8080/"
        },
        "id": "681df036",
        "outputId": "a5508744-cbe5-4e34-b0aa-c3e39b9b6232"
      },
      "outputs": [
        {
          "output_type": "stream",
          "name": "stdout",
          "text": [
            "tensor([1., 2., 3., 4., 5.])\n",
            "tensor(3.)\n"
          ]
        }
      ],
      "source": [
        "# reduction function using mean\n",
        "x = torch.tensor([1, 2, 3, 4, 5], dtype=torch.float32)\n",
        "print(x)\n",
        "print(x.mean())"
      ]
    },
    {
      "cell_type": "code",
      "execution_count": 6,
      "id": "cb162bb0",
      "metadata": {
        "colab": {
          "base_uri": "https://localhost:8080/"
        },
        "id": "cb162bb0",
        "outputId": "895a03b4-11a1-48aa-de35-c4b6d2adbf97"
      },
      "outputs": [
        {
          "output_type": "stream",
          "name": "stdout",
          "text": [
            "tensor(5.)\n",
            "tensor(1.)\n"
          ]
        }
      ],
      "source": [
        "# more reduction function using min and max\n",
        "print(x.max())\n",
        "print(x.min())"
      ]
    },
    {
      "cell_type": "code",
      "execution_count": 7,
      "id": "8856bb86",
      "metadata": {
        "colab": {
          "base_uri": "https://localhost:8080/"
        },
        "id": "8856bb86",
        "outputId": "0a100bb0-dfc5-4a01-edf6-b7ea85793dea"
      },
      "outputs": [
        {
          "output_type": "stream",
          "name": "stdout",
          "text": [
            "tensor([0.0000, 1.5708, 3.1416])\n",
            "tensor([ 0.0000e+00,  1.0000e+00, -8.7423e-08])\n",
            "tensor([ 1.0000e+00, -4.3711e-08, -1.0000e+00])\n"
          ]
        }
      ],
      "source": [
        "# trigonometric functions and their inverses\n",
        "import numpy as np\n",
        "\n",
        "x = torch.tensor([0, np.pi / 2, np.pi])\n",
        "print(x)\n",
        "print(torch.sin(x))\n",
        "print(torch.cos(x))"
      ]
    },
    {
      "cell_type": "code",
      "execution_count": 8,
      "id": "819a214c",
      "metadata": {
        "colab": {
          "base_uri": "https://localhost:8080/"
        },
        "id": "819a214c",
        "outputId": "9387678f-c6ff-4225-9452-cb12425cc37f"
      },
      "outputs": [
        {
          "output_type": "stream",
          "name": "stdout",
          "text": [
            "tensor([-1.5708, -1.5677, -1.5645, -1.5614, -1.5582])\n",
            "tensor([1.5582, 1.5614, 1.5645, 1.5677, 1.5708])\n",
            "tensor([-1.0000, -1.0000, -1.0000, -1.0000, -0.9999])\n",
            "tensor([-4.3711e-08,  3.1447e-03,  6.2894e-03,  9.4340e-03,  1.2579e-02])\n"
          ]
        }
      ],
      "source": [
        "# get an evenly spaced list of numbers between a range\n",
        "pi = torch.linspace(-np.pi/2, np.pi/2, steps=1000)\n",
        "print(pi[:5])  # lower bound\n",
        "print(pi[-5:]) # upper bound\n",
        "\n",
        "sined = torch.sin(pi)\n",
        "cosed = torch.cos(pi)\n",
        "print(sined[0:5])\n",
        "print(cosed[0:5])"
      ]
    },
    {
      "cell_type": "code",
      "execution_count": 9,
      "id": "4df2ae43",
      "metadata": {
        "colab": {
          "base_uri": "https://localhost:8080/",
          "height": 430
        },
        "id": "4df2ae43",
        "outputId": "7b791976-4a32-4977-c53a-8d16650104ac"
      },
      "outputs": [
        {
          "output_type": "display_data",
          "data": {
            "text/plain": [
              "<Figure size 640x480 with 1 Axes>"
            ],
            "image/png": "[encoded data removed]"
          },
          "metadata": {}
        }
      ],
      "source": [
        "# use matplotlib to visualize\n",
        "import matplotlib.pyplot as plt\n",
        "\n",
        "plt.plot(sined, label=\"sined\")\n",
        "plt.plot(cosed, label=\"cosed\")\n",
        "plt.legend()\n",
        "plt.show()"
      ]
    }
  ],
  "metadata": {
    "kernelspec": {
      "display_name": "Python 3 (ipykernel)",
      "language": "python",
      "name": "python3"
    },
    "language_info": {
      "codemirror_mode": {
        "name": "ipython",
        "version": 3
      },
      "file_extension": ".py",
      "mimetype": "text/x-python",
      "name": "python",
      "nbconvert_exporter": "python",
      "pygments_lexer": "ipython3",
      "version": "3.7.3"
    },
    "colab": {
      "provenance": []
    }
  },
  "nbformat": 4,
  "nbformat_minor": 5
}
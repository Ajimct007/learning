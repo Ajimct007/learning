{
  "cells": [
    {
      "cell_type": "code",
      "execution_count": 1,
      "id": "eaa94d56",
      "metadata": {
        "id": "eaa94d56"
      },
      "outputs": [],
      "source": [
        "# require gradient on a variable"
      ]
    },
    {
      "cell_type": "code",
      "execution_count": 2,
      "id": "f964bdd1",
      "metadata": {
        "id": "f964bdd1"
      },
      "outputs": [],
      "source": [
        "import torch\n",
        "from torch.autograd import Variable"
      ]
    },
    {
      "cell_type": "code",
      "execution_count": 3,
      "id": "3629dae9",
      "metadata": {
        "colab": {
          "base_uri": "https://localhost:8080/"
        },
        "id": "3629dae9",
        "outputId": "e22a0a7e-e1c2-491c-f94b-2c74298b79fa"
      },
      "outputs": [
        {
          "output_type": "stream",
          "name": "stdout",
          "text": [
            "tensor([-0.3799,  2.2665,  0.0942], requires_grad=True)\n"
          ]
        }
      ],
      "source": [
        "x = torch.randn(3)\n",
        "x = Variable(x, requires_grad=True)\n",
        "print(x)"
      ]
    },
    {
      "cell_type": "code",
      "execution_count": 4,
      "id": "bfe326d1",
      "metadata": {
        "colab": {
          "base_uri": "https://localhost:8080/"
        },
        "id": "bfe326d1",
        "outputId": "a2c55c7e-9d93-4066-bc00-82cde177aec9"
      },
      "outputs": [
        {
          "output_type": "stream",
          "name": "stdout",
          "text": [
            "tensor([-194.5070, 1160.4614,   48.2542], grad_fn=<MulBackward0>)\n"
          ]
        }
      ],
      "source": [
        "y = x * 2\n",
        "while y.data.norm() < 1000:\n",
        "    y = y * 2\n",
        "print(y)"
      ]
    },
    {
      "cell_type": "code",
      "execution_count": 5,
      "id": "88573ab1",
      "metadata": {
        "id": "88573ab1"
      },
      "outputs": [],
      "source": [
        "gradients = torch.FloatTensor([0.1, 1.0, 0.0001])\n",
        "y.backward(gradients)"
      ]
    },
    {
      "cell_type": "code",
      "execution_count": 6,
      "id": "382ec8de",
      "metadata": {
        "colab": {
          "base_uri": "https://localhost:8080/"
        },
        "id": "382ec8de",
        "outputId": "eb98a63a-a689-4674-9977-4a2cae0915ed"
      },
      "outputs": [
        {
          "output_type": "stream",
          "name": "stdout",
          "text": [
            "tensor([5.1200e+01, 5.1200e+02, 5.1200e-02])\n"
          ]
        }
      ],
      "source": [
        "print(x.grad)"
      ]
    },
    {
      "cell_type": "code",
      "execution_count": 7,
      "id": "67e402e7",
      "metadata": {
        "id": "67e402e7"
      },
      "outputs": [],
      "source": [
        "# Fronzen parameters"
      ]
    },
    {
      "cell_type": "code",
      "execution_count": 8,
      "id": "79ba95b6",
      "metadata": {
        "id": "79ba95b6"
      },
      "outputs": [],
      "source": [
        "from torch import nn, optim\n",
        "import torchvision"
      ]
    },
    {
      "cell_type": "code",
      "execution_count": 9,
      "id": "93188eae",
      "metadata": {
        "id": "93188eae"
      },
      "outputs": [],
      "source": [
        "import ssl\n",
        "ssl._create_default_https_context = ssl._create_unverified_context"
      ]
    },
    {
      "cell_type": "code",
      "execution_count": 10,
      "id": "28493221",
      "metadata": {
        "colab": {
          "base_uri": "https://localhost:8080/"
        },
        "id": "28493221",
        "outputId": "2836948d-045f-465e-cb9e-e77107ca4f56"
      },
      "outputs": [
        {
          "output_type": "stream",
          "name": "stderr",
          "text": [
            "/usr/local/lib/python3.10/dist-packages/torchvision/models/_utils.py:208: UserWarning: The parameter 'pretrained' is deprecated since 0.13 and may be removed in the future, please use 'weights' instead.\n",
            "  warnings.warn(\n",
            "/usr/local/lib/python3.10/dist-packages/torchvision/models/_utils.py:223: UserWarning: Arguments other than a weight enum or `None` for 'weights' are deprecated since 0.13 and may be removed in the future. The current behavior is equivalent to passing `weights=ResNet18_Weights.IMAGENET1K_V1`. You can also use `weights=ResNet18_Weights.DEFAULT` to get the most up-to-date weights.\n",
            "  warnings.warn(msg)\n",
            "Downloading: \"https://download.pytorch.org/models/resnet18-f37072fd.pth\" to /root/.cache/torch/hub/checkpoints/resnet18-f37072fd.pth\n",
            "100%|██████████| 44.7M/44.7M [00:00<00:00, 105MB/s]\n"
          ]
        }
      ],
      "source": [
        "model = torchvision.models.resnet18(pretrained=True)"
      ]
    },
    {
      "cell_type": "code",
      "execution_count": 11,
      "id": "07aa7ecd",
      "metadata": {
        "id": "07aa7ecd"
      },
      "outputs": [],
      "source": [
        "# Freeze all the parameters in the network\n",
        "for param in model.parameters():\n",
        "    param.requires_grad = False"
      ]
    },
    {
      "cell_type": "code",
      "execution_count": 12,
      "id": "b75a0710",
      "metadata": {
        "id": "b75a0710"
      },
      "outputs": [],
      "source": [
        "model.fc = nn.Linear(512, 10)"
      ]
    },
    {
      "cell_type": "code",
      "execution_count": 13,
      "id": "88b698c0",
      "metadata": {
        "id": "88b698c0"
      },
      "outputs": [],
      "source": [
        "# Optimize only the classifier\n",
        "optimizer = optim.SGD(model.parameters(), lr=1e-2, momentum=0.9)"
      ]
    },
    {
      "cell_type": "code",
      "execution_count": 14,
      "id": "7696ea68",
      "metadata": {
        "colab": {
          "base_uri": "https://localhost:8080/"
        },
        "id": "7696ea68",
        "outputId": "944bfa80-d7fb-44d8-9f4a-ce6e05e94b42"
      },
      "outputs": [
        {
          "output_type": "stream",
          "name": "stdout",
          "text": [
            "SGD (\n",
            "Parameter Group 0\n",
            "    dampening: 0\n",
            "    differentiable: False\n",
            "    foreach: None\n",
            "    lr: 0.01\n",
            "    maximize: False\n",
            "    momentum: 0.9\n",
            "    nesterov: False\n",
            "    weight_decay: 0\n",
            ")\n"
          ]
        }
      ],
      "source": [
        "print(optimizer)"
      ]
    }
  ],
  "metadata": {
    "kernelspec": {
      "display_name": "Python 3 (ipykernel)",
      "language": "python",
      "name": "python3"
    },
    "language_info": {
      "codemirror_mode": {
        "name": "ipython",
        "version": 3
      },
      "file_extension": ".py",
      "mimetype": "text/x-python",
      "name": "python",
      "nbconvert_exporter": "python",
      "pygments_lexer": "ipython3",
      "version": "3.7.3"
    },
    "colab": {
      "provenance": []
    }
  },
  "nbformat": 4,
  "nbformat_minor": 5
}
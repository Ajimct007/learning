{
  "cells": [
    {
      "cell_type": "markdown",
      "metadata": {
        "id": "CRptoXDt_jOr"
      },
      "source": [
        "# doc2vec: How To Implement doc2vec"
      ]
    },
    {
      "cell_type": "code",
      "source": [
        "from google.colab import drive\n",
        "drive.mount('/content/drive')"
      ],
      "metadata": {
        "colab": {
          "base_uri": "https://localhost:8080/"
        },
        "id": "o52pO7Iv_wAT",
        "outputId": "caf61a91-afcb-4089-b12c-e1e7c67ea145"
      },
      "execution_count": 1,
      "outputs": [
        {
          "output_type": "stream",
          "name": "stdout",
          "text": [
            "Mounted at /content/drive\n"
          ]
        }
      ]
    },
    {
      "cell_type": "markdown",
      "metadata": {
        "id": "X9OnBM5C_jOw"
      },
      "source": [
        "### Train Our Own Model"
      ]
    },
    {
      "cell_type": "code",
      "execution_count": 2,
      "metadata": {
        "id": "9FcZtWMe_jOy"
      },
      "outputs": [],
      "source": [
        "# Read in data, clean it, and then split into train and test sets\n",
        "import gensim\n",
        "import pandas as pd\n",
        "from sklearn.model_selection import train_test_split\n",
        "pd.set_option('display.max_colwidth', 100)\n",
        "\n",
        "messages = pd.read_csv('/content/drive/MyDrive/Colab Notebooks/LinkedIn Learning/03_Advanced NLP with Python for Machine Learning/Ex_Files_Adv_NLP_Python_ML/Exercise Files/data/spam.csv', encoding='latin-1')\n",
        "messages = messages.drop(labels = [\"Unnamed: 2\", \"Unnamed: 3\", \"Unnamed: 4\"], axis = 1)\n",
        "messages.columns = [\"label\", \"text\"]\n",
        "messages['text_clean'] = messages['text'].apply(lambda x: gensim.utils.simple_preprocess(x))\n",
        "\n",
        "X_train, X_test, y_train, y_test = train_test_split(messages['text_clean'],\n",
        "                                                    messages['label'], test_size=0.2)"
      ]
    },
    {
      "cell_type": "code",
      "execution_count": 3,
      "metadata": {
        "id": "B3tuzY7t_jO1"
      },
      "outputs": [],
      "source": [
        "# Create tagged document objects to prepare to train the model\n",
        "tagged_docs = [gensim.models.doc2vec.TaggedDocument(v, [i]) for i, v in enumerate(X_train)]"
      ]
    },
    {
      "cell_type": "code",
      "execution_count": 4,
      "metadata": {
        "colab": {
          "base_uri": "https://localhost:8080/"
        },
        "id": "Oyqqnos3_jO1",
        "outputId": "4c44ba38-1d47-4207-a98d-c9d8715bfcb2"
      },
      "outputs": [
        {
          "output_type": "execute_result",
          "data": {
            "text/plain": [
              "TaggedDocument(words=['motivate', 'behind', 'every', 'darkness', 'there', 'is', 'shining', 'light', 'waiting', 'for', 'you', 'to', 'find', 'it', 'behind', 'every', 'best', 'friend', 'there', 'is', 'always', 'trust', 'and', 'love', 'bslvyl'], tags=[0])"
            ]
          },
          "metadata": {},
          "execution_count": 4
        }
      ],
      "source": [
        "# Look at what a tagged document looks like\n",
        "tagged_docs[0]"
      ]
    },
    {
      "cell_type": "code",
      "execution_count": 5,
      "metadata": {
        "id": "-cNufFc0_jO3"
      },
      "outputs": [],
      "source": [
        "# Train a basic doc2vec model\n",
        "d2v_model = gensim.models.Doc2Vec(tagged_docs,\n",
        "                                  vector_size=100,\n",
        "                                  window=5,\n",
        "                                  min_count=2)"
      ]
    },
    {
      "cell_type": "code",
      "execution_count": 6,
      "metadata": {
        "colab": {
          "base_uri": "https://localhost:8080/",
          "height": 349
        },
        "id": "m6Wu2frC_jO5",
        "outputId": "0f656c0c-b1dc-4910-934c-37067e46c380"
      },
      "outputs": [
        {
          "output_type": "error",
          "ename": "TypeError",
          "evalue": "ignored",
          "traceback": [
            "\u001b[0;31m---------------------------------------------------------------------------\u001b[0m",
            "\u001b[0;31mTypeError\u001b[0m                                 Traceback (most recent call last)",
            "\u001b[0;32m<ipython-input-6-81bc935a6094>\u001b[0m in \u001b[0;36m<cell line: 2>\u001b[0;34m()\u001b[0m\n\u001b[1;32m      1\u001b[0m \u001b[0;31m# What happens if we pass in a single word like we did for word2vec?\u001b[0m\u001b[0;34m\u001b[0m\u001b[0;34m\u001b[0m\u001b[0m\n\u001b[0;32m----> 2\u001b[0;31m \u001b[0md2v_model\u001b[0m\u001b[0;34m.\u001b[0m\u001b[0minfer_vector\u001b[0m\u001b[0;34m(\u001b[0m\u001b[0;34m'text'\u001b[0m\u001b[0;34m)\u001b[0m\u001b[0;34m\u001b[0m\u001b[0;34m\u001b[0m\u001b[0m\n\u001b[0m",
            "\u001b[0;32m/usr/local/lib/python3.10/dist-packages/gensim/models/doc2vec.py\u001b[0m in \u001b[0;36minfer_vector\u001b[0;34m(self, doc_words, alpha, min_alpha, epochs)\u001b[0m\n\u001b[1;32m    620\u001b[0m         \"\"\"\n\u001b[1;32m    621\u001b[0m         \u001b[0;32mif\u001b[0m \u001b[0misinstance\u001b[0m\u001b[0;34m(\u001b[0m\u001b[0mdoc_words\u001b[0m\u001b[0;34m,\u001b[0m \u001b[0mstr\u001b[0m\u001b[0;34m)\u001b[0m\u001b[0;34m:\u001b[0m  \u001b[0;31m# a common mistake; fail with a nicer error\u001b[0m\u001b[0;34m\u001b[0m\u001b[0;34m\u001b[0m\u001b[0m\n\u001b[0;32m--> 622\u001b[0;31m             \u001b[0;32mraise\u001b[0m \u001b[0mTypeError\u001b[0m\u001b[0;34m(\u001b[0m\u001b[0;34m\"Parameter doc_words of infer_vector() must be a list of strings (not a single string).\"\u001b[0m\u001b[0;34m)\u001b[0m\u001b[0;34m\u001b[0m\u001b[0;34m\u001b[0m\u001b[0m\n\u001b[0m\u001b[1;32m    623\u001b[0m \u001b[0;34m\u001b[0m\u001b[0m\n\u001b[1;32m    624\u001b[0m         \u001b[0malpha\u001b[0m \u001b[0;34m=\u001b[0m \u001b[0malpha\u001b[0m \u001b[0;32mor\u001b[0m \u001b[0mself\u001b[0m\u001b[0;34m.\u001b[0m\u001b[0malpha\u001b[0m\u001b[0;34m\u001b[0m\u001b[0;34m\u001b[0m\u001b[0m\n",
            "\u001b[0;31mTypeError\u001b[0m: Parameter doc_words of infer_vector() must be a list of strings (not a single string)."
          ]
        }
      ],
      "source": [
        "# What happens if we pass in a single word like we did for word2vec?\n",
        "d2v_model.infer_vector('text')\n",
        "\n",
        "# It says to require a list of strings"
      ]
    },
    {
      "cell_type": "code",
      "execution_count": 7,
      "metadata": {
        "colab": {
          "base_uri": "https://localhost:8080/"
        },
        "id": "9r49JN1E_jO7",
        "outputId": "ccc8d40b-6236-4e36-ee34-09410e5ad189"
      },
      "outputs": [
        {
          "output_type": "execute_result",
          "data": {
            "text/plain": [
              "array([-5.9985947e-03,  6.3496311e-03,  5.3363563e-03, -7.9971319e-03,\n",
              "        6.6965171e-05, -3.6055163e-02,  2.0777979e-03,  3.1047551e-02,\n",
              "       -2.3622267e-02, -2.0700747e-02, -1.6930789e-02, -2.7685340e-02,\n",
              "       -2.5317762e-03,  8.0003068e-03,  1.1843971e-03, -1.8999359e-02,\n",
              "        2.1791125e-03, -1.6204547e-02, -3.6400149e-03, -2.7803198e-02,\n",
              "        1.2003009e-02,  1.5870104e-02,  1.6533514e-02, -1.1403088e-02,\n",
              "       -8.8226134e-03, -2.5914914e-03, -1.4095995e-02, -1.0216591e-02,\n",
              "       -1.3129865e-02, -4.5326278e-03,  2.3207583e-02,  8.1692729e-03,\n",
              "        1.1349378e-02, -1.4395045e-02, -5.2026706e-03,  2.8392898e-02,\n",
              "       -1.7934184e-03, -1.6818730e-02, -1.7112000e-02, -3.1318039e-02,\n",
              "        9.8277663e-04, -7.9029398e-03, -1.4490120e-03, -1.0342345e-02,\n",
              "        1.5781837e-02, -7.7420222e-03, -8.3679408e-03, -6.4208987e-03,\n",
              "        1.8172039e-02,  2.9923598e-04,  1.2592814e-02, -2.1875773e-02,\n",
              "       -1.2092551e-02, -8.7217782e-03, -8.4299129e-03,  9.8230559e-03,\n",
              "        1.4170409e-03,  5.9201354e-03, -2.7728634e-02, -1.1346965e-03,\n",
              "        6.2916088e-03,  1.1688904e-03,  7.3595108e-03, -1.1183518e-02,\n",
              "       -2.7624687e-02,  3.3346664e-02,  7.9831053e-03,  1.0027238e-02,\n",
              "       -3.4500457e-02,  1.9980051e-02, -5.7721208e-03,  6.0728150e-03,\n",
              "        2.2131199e-02, -1.6496907e-03,  3.0046035e-02,  1.3398552e-02,\n",
              "       -2.9702573e-03, -3.3905690e-03, -1.1991033e-02,  1.1863038e-02,\n",
              "       -1.6446533e-02,  4.1971197e-03, -2.6860133e-02,  3.0284481e-02,\n",
              "       -1.1138768e-02, -4.1096592e-03,  6.9654053e-03,  1.3873270e-02,\n",
              "        2.5936551e-02,  1.3323690e-02,  2.1307506e-02,  1.6909638e-02,\n",
              "        5.8358926e-03,  1.1492999e-02,  2.9793637e-02,  1.4391798e-02,\n",
              "        6.3248370e-03, -9.3247127e-03,  1.2554128e-02, -2.8978288e-03],\n",
              "      dtype=float32)"
            ]
          },
          "metadata": {},
          "execution_count": 7
        }
      ],
      "source": [
        "# What happens if we pass in a list of words?\n",
        "d2v_model.infer_vector(['i', 'am', 'learning', 'nlp'])"
      ]
    },
    {
      "cell_type": "markdown",
      "metadata": {
        "id": "wSuNETa3_jPB"
      },
      "source": [
        "### What About Pre-trained Document Vectors?\n",
        "\n",
        "There are not as many options as there are for word vectors. There also is not an easy API to read these in like there is for `word2vec` so it is more time consuming.\n",
        "\n",
        "Pre-trained vectors from training on Wikipedia and Associated Press News can be found [here](https://github.com/jhlau/doc2vec). Feel free to explore on your own!"
      ]
    }
  ],
  "metadata": {
    "kernelspec": {
      "display_name": "Python 3",
      "language": "python",
      "name": "python3"
    },
    "language_info": {
      "codemirror_mode": {
        "name": "ipython",
        "version": 3
      },
      "file_extension": ".py",
      "mimetype": "text/x-python",
      "name": "python",
      "nbconvert_exporter": "python",
      "pygments_lexer": "ipython3",
      "version": "3.6.2"
    },
    "colab": {
      "provenance": []
    }
  },
  "nbformat": 4,
  "nbformat_minor": 0
}
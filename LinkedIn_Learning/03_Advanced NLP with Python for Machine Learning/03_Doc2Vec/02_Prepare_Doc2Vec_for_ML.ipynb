{
  "cells": [
    {
      "cell_type": "markdown",
      "metadata": {
        "id": "4ymiPjG6BmRF"
      },
      "source": [
        "# doc2vec: How To Prep Document Vectors For Modeling"
      ]
    },
    {
      "cell_type": "code",
      "source": [
        "from google.colab import drive\n",
        "drive.mount('/content/drive')"
      ],
      "metadata": {
        "colab": {
          "base_uri": "https://localhost:8080/"
        },
        "id": "wc5vIxprBs3l",
        "outputId": "bbb9bc4b-be2f-4eae-ac99-826f69d5fb70"
      },
      "execution_count": 1,
      "outputs": [
        {
          "output_type": "stream",
          "name": "stdout",
          "text": [
            "Mounted at /content/drive\n"
          ]
        }
      ]
    },
    {
      "cell_type": "markdown",
      "metadata": {
        "id": "7boPThUFBmRL"
      },
      "source": [
        "### Train Our Own Model"
      ]
    },
    {
      "cell_type": "code",
      "execution_count": 2,
      "metadata": {
        "id": "Y4HtuPeWBmRM"
      },
      "outputs": [],
      "source": [
        "# Read in data, clean it, split it into train/test, and then train a doc2vec model\n",
        "import gensim\n",
        "import pandas as pd\n",
        "from sklearn.model_selection import train_test_split\n",
        "pd.set_option('display.max_colwidth', 100)\n",
        "\n",
        "messages = pd.read_csv('/content/drive/MyDrive/Colab Notebooks/LinkedIn Learning/03_Advanced NLP with Python for Machine Learning/Ex_Files_Adv_NLP_Python_ML/Exercise Files/data/spam.csv', encoding='latin-1')\n",
        "messages = messages.drop(labels = [\"Unnamed: 2\", \"Unnamed: 3\", \"Unnamed: 4\"], axis = 1)\n",
        "messages.columns = [\"label\", \"text\"]\n",
        "messages['text_clean'] = messages['text'].apply(lambda x: gensim.utils.simple_preprocess(x))\n",
        "\n",
        "X_train, X_test, y_train, y_test = train_test_split(messages['text_clean'],\n",
        "                                                    messages['label'], test_size=0.2)\n",
        "\n",
        "tagged_docs_tr = [gensim.models.doc2vec.TaggedDocument(v, [i]) for i, v in enumerate(X_train)]\n",
        "\n",
        "d2v_model = gensim.models.Doc2Vec(tagged_docs_tr,\n",
        "                                  vector_size=50,\n",
        "                                  window=2,\n",
        "                                  min_count=2)"
      ]
    },
    {
      "cell_type": "code",
      "execution_count": 3,
      "metadata": {
        "colab": {
          "base_uri": "https://localhost:8080/"
        },
        "id": "RS2DV24BBmRO",
        "outputId": "dff5211a-f5b9-452b-8db2-cfce169023ac"
      },
      "outputs": [
        {
          "output_type": "execute_result",
          "data": {
            "text/plain": [
              "array([-0.0078297 , -0.00277094,  0.01513362,  0.00480509, -0.0215268 ,\n",
              "       -0.02120888,  0.02670061,  0.05044198, -0.0477617 , -0.02275492,\n",
              "        0.00566442, -0.04002783,  0.00234667,  0.00883718, -0.03751437,\n",
              "        0.01065594,  0.03408942,  0.0048598 , -0.03334651, -0.03162771,\n",
              "       -0.00119622,  0.04944837,  0.03699635, -0.00558524,  0.03139228,\n",
              "        0.0174937 , -0.01291311,  0.00772637, -0.02998761, -0.00522621,\n",
              "        0.0118029 ,  0.00726539,  0.00287492,  0.01703115, -0.01129664,\n",
              "        0.04264465,  0.03310277, -0.00802978,  0.018839  , -0.02575333,\n",
              "        0.0332091 , -0.0016696 , -0.00618301, -0.0056473 ,  0.07271693,\n",
              "        0.00403074,  0.0032322 , -0.03469745,  0.01348958,  0.03071037],\n",
              "      dtype=float32)"
            ]
          },
          "metadata": {},
          "execution_count": 3
        }
      ],
      "source": [
        "# What does a document vector look like again?\n",
        "d2v_model.infer_vector(['convert', 'words', 'to', 'vectors'])"
      ]
    },
    {
      "cell_type": "code",
      "execution_count": 4,
      "metadata": {
        "id": "mfIGpQR7BmRQ"
      },
      "outputs": [],
      "source": [
        "# How do we prepare these vectors to be used in a machine learning model?\n",
        "vectors = [[d2v_model.infer_vector(words)] for words in X_test]"
      ]
    },
    {
      "cell_type": "code",
      "execution_count": 5,
      "metadata": {
        "colab": {
          "base_uri": "https://localhost:8080/"
        },
        "id": "Gvf-GoaWBmRQ",
        "outputId": "1ec9a47f-0321-4175-91ee-c9be5d82fedf"
      },
      "outputs": [
        {
          "output_type": "execute_result",
          "data": {
            "text/plain": [
              "[array([ 3.16787814e-03, -7.71031016e-03, -1.86633077e-02,  7.71376910e-03,\n",
              "        -2.31629089e-02, -9.37076472e-03, -4.06177435e-03, -6.32034382e-03,\n",
              "         1.18992245e-02,  1.20797409e-02,  3.06752566e-02, -7.99759346e-06,\n",
              "         7.97771011e-03, -4.98431455e-03, -4.03861515e-02, -6.11662446e-03,\n",
              "         3.28985252e-03, -3.21852043e-02, -3.98042947e-02, -7.48847099e-03,\n",
              "         7.93356914e-03,  3.87331396e-02,  2.13802438e-02, -2.29957160e-02,\n",
              "         7.96783424e-04, -4.40560561e-03,  1.40241059e-02, -1.16359601e-02,\n",
              "        -4.93877195e-02, -1.81492176e-02, -1.02791714e-03, -1.32846516e-02,\n",
              "        -2.41765636e-03, -9.98300966e-04, -1.22824181e-02, -9.38972831e-03,\n",
              "         8.61805398e-03, -8.95181764e-03, -3.59132849e-02,  1.99643038e-02,\n",
              "        -2.06348188e-02,  1.55792776e-02, -1.98515020e-02, -1.22038452e-02,\n",
              "         3.14769112e-02, -1.25221517e-02, -4.82630730e-03, -8.54511838e-03,\n",
              "         1.57211442e-02,  9.90661327e-03], dtype=float32)]"
            ]
          },
          "metadata": {},
          "execution_count": 5
        }
      ],
      "source": [
        "vectors[0]"
      ]
    }
  ],
  "metadata": {
    "kernelspec": {
      "display_name": "Python 3",
      "language": "python",
      "name": "python3"
    },
    "language_info": {
      "codemirror_mode": {
        "name": "ipython",
        "version": 3
      },
      "file_extension": ".py",
      "mimetype": "text/x-python",
      "name": "python",
      "nbconvert_exporter": "python",
      "pygments_lexer": "ipython3",
      "version": "3.6.2"
    },
    "colab": {
      "provenance": []
    }
  },
  "nbformat": 4,
  "nbformat_minor": 0
}
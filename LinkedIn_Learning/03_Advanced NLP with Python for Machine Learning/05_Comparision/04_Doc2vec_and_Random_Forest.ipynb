{
  "cells": [
    {
      "cell_type": "markdown",
      "metadata": {
        "id": "79pBRKXFZ2tc"
      },
      "source": [
        "# Compare NLP Techniques: Build Model On doc2vec Vectors"
      ]
    },
    {
      "cell_type": "code",
      "source": [
        "from google.colab import drive\n",
        "drive.mount('/content/drive')"
      ],
      "metadata": {
        "colab": {
          "base_uri": "https://localhost:8080/"
        },
        "id": "_dGqgcd3a6Ut",
        "outputId": "733a6768-2bfd-445b-c8be-bf353bb8c33d"
      },
      "execution_count": 1,
      "outputs": [
        {
          "output_type": "stream",
          "name": "stdout",
          "text": [
            "Mounted at /content/drive\n"
          ]
        }
      ]
    },
    {
      "cell_type": "markdown",
      "metadata": {
        "id": "YXnFlih9Z2ti"
      },
      "source": [
        "### Read In Cleaned Text"
      ]
    },
    {
      "cell_type": "code",
      "execution_count": 2,
      "metadata": {
        "id": "RWuArHdjZ2tk"
      },
      "outputs": [],
      "source": [
        "# Load the cleaned training and test sets\n",
        "import gensim\n",
        "import numpy as np\n",
        "import pandas as pd\n",
        "\n",
        "X_train = pd.read_csv('/content/drive/MyDrive/Colab Notebooks/LinkedIn Learning/03_Advanced NLP with Python for Machine Learning/Ex_Files_Adv_NLP_Python_ML/Exercise Files/data/X_train.csv')\n",
        "X_test = pd.read_csv('/content/drive/MyDrive/Colab Notebooks/LinkedIn Learning/03_Advanced NLP with Python for Machine Learning/Ex_Files_Adv_NLP_Python_ML/Exercise Files/data/X_test.csv')\n",
        "y_train = pd.read_csv('/content/drive/MyDrive/Colab Notebooks/LinkedIn Learning/03_Advanced NLP with Python for Machine Learning/Ex_Files_Adv_NLP_Python_ML/Exercise Files/data/y_train.csv')\n",
        "y_test = pd.read_csv('/content/drive/MyDrive/Colab Notebooks/LinkedIn Learning/03_Advanced NLP with Python for Machine Learning/Ex_Files_Adv_NLP_Python_ML/Exercise Files/data/y_test.csv')\n"
      ]
    },
    {
      "cell_type": "markdown",
      "metadata": {
        "id": "m9euyOiIZ2tm"
      },
      "source": [
        "### Create doc2vec Vectors"
      ]
    },
    {
      "cell_type": "code",
      "execution_count": 3,
      "metadata": {
        "id": "j4ShQWffZ2tn"
      },
      "outputs": [],
      "source": [
        "# Created TaggedDocument vectors for each text message in the training and test sets\n",
        "tagged_docs_train = [gensim.models.doc2vec.TaggedDocument(v, [i])\n",
        "                     for i, v in enumerate(X_train['clean_text'])]\n",
        "tagged_docs_test = [gensim.models.doc2vec.TaggedDocument(v, [i])\n",
        "                    for i, v in enumerate(X_test['clean_text'])]"
      ]
    },
    {
      "cell_type": "code",
      "execution_count": 4,
      "metadata": {
        "colab": {
          "base_uri": "https://localhost:8080/"
        },
        "id": "3DGzKcloZ2to",
        "outputId": "dc93914b-e4a7-4b23-ac8e-fd0b58d8a654"
      },
      "outputs": [
        {
          "output_type": "execute_result",
          "data": {
            "text/plain": [
              "[TaggedDocument(words=\"['let', 'know', 'details', 'fri', 'u', 'find', 'cos', 'im', 'tom', 'fri', 'mentionned', 'chinese', 'thanks']\", tags=[0]),\n",
              " TaggedDocument(words=\"['private', '2003', 'account', 'statement', 'shows', '800', 'unredeemed', 'points', 'call', '08718738002', 'identifier', 'code', '48922', 'expires', '211104']\", tags=[1]),\n",
              " TaggedDocument(words=\"['enjoy', 'showers', 'possessiveness', 'poured', 'u', 'ur', 'loved', 'ones', 'bcoz', 'world', 'lies', 'golden', 'gift', 'loved', 'truly']\", tags=[2]),\n",
              " TaggedDocument(words=\"['beautiful', 'truth', 'gravity', 'read', 'carefully', 'heart', 'feels', 'light', 'someone', 'feels', 'heavy', 'someone', 'leaves', 'goodmorning']\", tags=[3]),\n",
              " TaggedDocument(words=\"['onum', 'ela', 'pa', 'normal']\", tags=[4]),\n",
              " TaggedDocument(words=\"['wake', 'gt']\", tags=[5]),\n",
              " TaggedDocument(words=\"['im', 'saying', 'havent', 'explicitly', 'told', 'nora', 'know', 'someone', 'im', 'probably', 'gonna', 'bother']\", tags=[6]),\n",
              " TaggedDocument(words=\"['yeah', 'sure', 'give', 'couple', 'minutes', 'track', 'wallet']\", tags=[7]),\n",
              " TaggedDocument(words=\"['yeah', 'like', 'goes', 'like', 'friends', 'imma', 'flip', 'shit', 'like', 'half', 'hour']\", tags=[8]),\n",
              " TaggedDocument(words=\"['lol', 'yes', 'friendship', 'hanging', 'thread', 'cause', 'u', 'wont', 'buy', 'stuff']\", tags=[9])]"
            ]
          },
          "metadata": {},
          "execution_count": 4
        }
      ],
      "source": [
        "# What do these TaggedDocument objects look like?\n",
        "tagged_docs_train[:10]"
      ]
    },
    {
      "cell_type": "code",
      "execution_count": 5,
      "metadata": {
        "colab": {
          "base_uri": "https://localhost:8080/"
        },
        "id": "LCs2X59PZ2tq",
        "outputId": "ba3c0679-4025-4eb5-e151-e223defbdf1f"
      },
      "outputs": [
        {
          "output_type": "stream",
          "name": "stderr",
          "text": [
            "WARNING:gensim.models.doc2vec:Each 'words' should be a list of words (usually unicode strings). First 'words' here is instead plain <class 'str'>.\n"
          ]
        }
      ],
      "source": [
        "# Train a basic doc2vec model\n",
        "d2v_model = gensim.models.Doc2Vec(tagged_docs_train,\n",
        "                                  vector_size=100,\n",
        "                                  window=5,\n",
        "                                  min_count=2)"
      ]
    },
    {
      "cell_type": "code",
      "execution_count": 6,
      "metadata": {
        "id": "ouMOpDnmZ2tr"
      },
      "outputs": [],
      "source": [
        "# Infer the vectors to be used in training and testing\n",
        "train_vectors = [d2v_model.infer_vector(eval(v.words)) for v in tagged_docs_train]\n",
        "test_vectors = [d2v_model.infer_vector(eval(v.words)) for v in tagged_docs_test]"
      ]
    },
    {
      "cell_type": "markdown",
      "metadata": {
        "id": "LNj01B65Z2ts"
      },
      "source": [
        "### Fit RandomForestClassifier On Top Of Document Vectors"
      ]
    },
    {
      "cell_type": "code",
      "execution_count": 7,
      "metadata": {
        "colab": {
          "base_uri": "https://localhost:8080/"
        },
        "id": "SBiPqc9eZ2tt",
        "outputId": "4a438a26-287b-4ae1-c7a5-1e213f59a938"
      },
      "outputs": [
        {
          "output_type": "stream",
          "name": "stdout",
          "text": [
            "Precision: 0.889 / Recall: 0.373 / Accuracy: 0.909\n"
          ]
        }
      ],
      "source": [
        "# Fit a basic model, make predictions on the holdout test set, and the generate the evaluation metrics\n",
        "from sklearn.ensemble import RandomForestClassifier\n",
        "from sklearn.metrics import precision_score, recall_score\n",
        "\n",
        "rf = RandomForestClassifier()\n",
        "rf_model = rf.fit(train_vectors, y_train.values.ravel())\n",
        "\n",
        "y_pred = rf_model.predict(test_vectors)\n",
        "\n",
        "precision = precision_score(y_test, y_pred)\n",
        "recall = recall_score(y_test, y_pred)\n",
        "print('Precision: {} / Recall: {} / Accuracy: {}'.format(\n",
        "    round(precision, 3), round(recall, 3), round((y_pred==y_test['label']).sum()/len(y_pred), 3)))"
      ]
    },
    {
      "cell_type": "code",
      "execution_count": null,
      "metadata": {
        "id": "uTkqrs97Z2tu"
      },
      "outputs": [],
      "source": []
    }
  ],
  "metadata": {
    "kernelspec": {
      "display_name": "Python 3",
      "language": "python",
      "name": "python3"
    },
    "language_info": {
      "codemirror_mode": {
        "name": "ipython",
        "version": 3
      },
      "file_extension": ".py",
      "mimetype": "text/x-python",
      "name": "python",
      "nbconvert_exporter": "python",
      "pygments_lexer": "ipython3",
      "version": "3.6.2"
    },
    "colab": {
      "provenance": []
    }
  },
  "nbformat": 4,
  "nbformat_minor": 0
}
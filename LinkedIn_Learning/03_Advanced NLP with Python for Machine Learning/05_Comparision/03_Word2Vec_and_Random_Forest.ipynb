{
  "cells": [
    {
      "cell_type": "markdown",
      "metadata": {
        "id": "FM17pQVKXjfV"
      },
      "source": [
        "# Compare NLP Techniques: Build Model On word2vec Vectors"
      ]
    },
    {
      "cell_type": "code",
      "source": [
        "from google.colab import drive\n",
        "drive.mount('/content/drive')"
      ],
      "metadata": {
        "colab": {
          "base_uri": "https://localhost:8080/"
        },
        "id": "M9hSACZQXq0M",
        "outputId": "eb440f84-529b-47a5-fd57-11c6d7da8ad6"
      },
      "execution_count": 1,
      "outputs": [
        {
          "output_type": "stream",
          "name": "stdout",
          "text": [
            "Mounted at /content/drive\n"
          ]
        }
      ]
    },
    {
      "cell_type": "markdown",
      "metadata": {
        "id": "uQvpElyaXjfb"
      },
      "source": [
        "### Read In Cleaned Text"
      ]
    },
    {
      "cell_type": "code",
      "execution_count": 2,
      "metadata": {
        "id": "7jfAlXZGXjfc"
      },
      "outputs": [],
      "source": [
        "# Load the cleaned training and test sets\n",
        "import gensim\n",
        "import numpy as np\n",
        "import pandas as pd\n",
        "\n",
        "X_train = pd.read_csv('/content/drive/MyDrive/Colab Notebooks/LinkedIn Learning/03_Advanced NLP with Python for Machine Learning/Ex_Files_Adv_NLP_Python_ML/Exercise Files/data/X_train.csv')\n",
        "X_test = pd.read_csv('/content/drive/MyDrive/Colab Notebooks/LinkedIn Learning/03_Advanced NLP with Python for Machine Learning/Ex_Files_Adv_NLP_Python_ML/Exercise Files/data/X_test.csv')\n",
        "y_train = pd.read_csv('/content/drive/MyDrive/Colab Notebooks/LinkedIn Learning/03_Advanced NLP with Python for Machine Learning/Ex_Files_Adv_NLP_Python_ML/Exercise Files/data/y_train.csv')\n",
        "y_test = pd.read_csv('/content/drive/MyDrive/Colab Notebooks/LinkedIn Learning/03_Advanced NLP with Python for Machine Learning/Ex_Files_Adv_NLP_Python_ML/Exercise Files/data/y_test.csv')"
      ]
    },
    {
      "cell_type": "markdown",
      "metadata": {
        "id": "kSKv1UwcXjff"
      },
      "source": [
        "### Create word2vec Vectors"
      ]
    },
    {
      "cell_type": "code",
      "execution_count": 3,
      "metadata": {
        "colab": {
          "base_uri": "https://localhost:8080/"
        },
        "id": "KpaghGw5Xjfg",
        "outputId": "f2c16f8d-6f1e-44f1-9f0d-ac8b0e90482d"
      },
      "outputs": [
        {
          "output_type": "stream",
          "name": "stderr",
          "text": [
            "WARNING:gensim.models.word2vec:Each 'sentences' item should be a list of words (usually unicode strings). First item here is instead plain <class 'str'>.\n"
          ]
        }
      ],
      "source": [
        "# Train a basic word2vec model\n",
        "w2v_model = gensim.models.Word2Vec(X_train,\n",
        "                                   vector_size=100,\n",
        "                                   window=5,\n",
        "                                   min_count=2)"
      ]
    },
    {
      "cell_type": "code",
      "execution_count": 6,
      "metadata": {
        "colab": {
          "base_uri": "https://localhost:8080/"
        },
        "id": "DZBeBfG2Xjfh",
        "outputId": "70c8f32c-32e1-44cb-b2c6-6ffd56aa4ba7"
      },
      "outputs": [
        {
          "output_type": "stream",
          "name": "stderr",
          "text": [
            "<ipython-input-6-46e250df76a4>:3: VisibleDeprecationWarning: Creating an ndarray from ragged nested sequences (which is a list-or-tuple of lists-or-tuples-or ndarrays with different lengths or shapes) is deprecated. If you meant to do this, you must specify 'dtype=object' when creating the ndarray.\n",
            "  X_train_vect = np.array([np.array([w2v_model.wv[i] for i in ls if i in words])\n",
            "<ipython-input-6-46e250df76a4>:5: VisibleDeprecationWarning: Creating an ndarray from ragged nested sequences (which is a list-or-tuple of lists-or-tuples-or ndarrays with different lengths or shapes) is deprecated. If you meant to do this, you must specify 'dtype=object' when creating the ndarray.\n",
            "  X_test_vect = np.array([np.array([w2v_model.wv[i] for i in ls if i in words])\n"
          ]
        }
      ],
      "source": [
        "# Replace the words in each text message with the learned word vector\n",
        "words = set(w2v_model.wv.index_to_key )\n",
        "X_train_vect = np.array([np.array([w2v_model.wv[i] for i in ls if i in words])\n",
        "                         for ls in X_train['clean_text']])\n",
        "X_test_vect = np.array([np.array([w2v_model.wv[i] for i in ls if i in words])\n",
        "                         for ls in X_test['clean_text']])"
      ]
    },
    {
      "cell_type": "code",
      "execution_count": 7,
      "metadata": {
        "id": "jOJLP2HLXjfi"
      },
      "outputs": [],
      "source": [
        "# Average the word vectors for each sentence (and assign a vector of zeros if the model\n",
        "# did not learn any of the words in the text message during training\n",
        "X_train_vect_avg = []\n",
        "for v in X_train_vect:\n",
        "    if v.size:\n",
        "        X_train_vect_avg.append(v.mean(axis=0))\n",
        "    else:\n",
        "        X_train_vect_avg.append(np.zeros(100, dtype=float))\n",
        "\n",
        "X_test_vect_avg = []\n",
        "for v in X_test_vect:\n",
        "    if v.size:\n",
        "        X_test_vect_avg.append(v.mean(axis=0))\n",
        "    else:\n",
        "        X_test_vect_avg.append(np.zeros(100, dtype=float))"
      ]
    },
    {
      "cell_type": "code",
      "execution_count": 8,
      "metadata": {
        "colab": {
          "base_uri": "https://localhost:8080/"
        },
        "id": "6znVxw8EXjfi",
        "outputId": "94d9e834-c8d6-4eff-f8ce-c04c43cdcee4"
      },
      "outputs": [
        {
          "output_type": "execute_result",
          "data": {
            "text/plain": [
              "array([[-0.00861969,  0.00366574,  0.00518988, ..., -0.00239151,\n",
              "        -0.00951009,  0.00450588],\n",
              "       [-0.00053623,  0.00023643,  0.00510335, ..., -0.00704156,\n",
              "         0.00090146,  0.00639253],\n",
              "       [-0.00861969,  0.00366574,  0.00518988, ..., -0.00239151,\n",
              "        -0.00951009,  0.00450588],\n",
              "       ...,\n",
              "       [-0.00861969,  0.00366574,  0.00518988, ..., -0.00239151,\n",
              "        -0.00951009,  0.00450588],\n",
              "       [-0.00861969,  0.00366574,  0.00518988, ..., -0.00239151,\n",
              "        -0.00951009,  0.00450588],\n",
              "       [-0.00053623,  0.00023643,  0.00510335, ..., -0.00704156,\n",
              "         0.00090146,  0.00639253]], dtype=float32)"
            ]
          },
          "metadata": {},
          "execution_count": 8
        }
      ],
      "source": [
        "# What does the unaveraged version look like?\n",
        "X_train_vect[0]"
      ]
    },
    {
      "cell_type": "code",
      "execution_count": 9,
      "metadata": {
        "colab": {
          "base_uri": "https://localhost:8080/"
        },
        "id": "_5B8AQagXjfk",
        "outputId": "43cd8756-3016-43e3-8241-5fba673dbef3"
      },
      "outputs": [
        {
          "output_type": "execute_result",
          "data": {
            "text/plain": [
              "array([-4.9453876e-03,  2.1069623e-03,  5.1505500e-03,  7.2270902e-03,\n",
              "       -1.5574884e-04, -6.5990998e-03,  3.5389131e-03,  7.3771477e-03,\n",
              "       -3.8288585e-03, -5.0779991e-03,  3.1310169e-03, -5.2619129e-03,\n",
              "       -5.1166494e-03,  6.8543176e-03, -3.8050584e-04,  3.1158114e-03,\n",
              "        5.0167623e-03,  4.5585292e-03, -5.8328179e-03, -4.6013575e-03,\n",
              "        4.6044630e-03, -1.6026212e-04,  7.6473504e-03, -5.0304239e-03,\n",
              "        6.5765725e-03,  4.1788317e-05, -3.1208179e-03,  5.0210906e-03,\n",
              "       -4.3677855e-03,  1.8716170e-03,  2.0210170e-03, -2.8022612e-03,\n",
              "        4.0085968e-03, -6.4336057e-03,  1.0396446e-03,  6.3918688e-04,\n",
              "        7.4303313e-03,  6.3200854e-04,  5.2233450e-03,  2.8974393e-03,\n",
              "       -5.7213179e-05, -1.5364145e-03, -8.9757377e-03, -2.1903310e-03,\n",
              "       -1.7067768e-03,  4.1713626e-03, -2.4315965e-04,  3.5272492e-03,\n",
              "        3.0887334e-03,  5.1732687e-03,  5.5598543e-04, -3.1438298e-03,\n",
              "       -1.9925972e-03,  2.2670783e-03,  3.3508425e-03,  2.5436135e-03,\n",
              "        6.9683823e-03,  4.8038532e-04, -2.0011065e-03,  8.4777242e-03,\n",
              "       -5.3722067e-03,  1.8954087e-03, -4.4119214e-03, -6.2679248e-03,\n",
              "        1.2725153e-03,  4.0519102e-03,  3.8342683e-03, -6.3006632e-04,\n",
              "        2.8077529e-03,  4.6412093e-03,  4.5637897e-04, -9.7673479e-04,\n",
              "        2.3051000e-03, -6.3474348e-04,  1.5570418e-03, -3.4000194e-03,\n",
              "       -4.8236482e-04, -1.7317068e-03,  1.6061320e-03, -5.9778616e-03,\n",
              "       -5.5002850e-03,  3.3721142e-03,  5.1194560e-03, -3.0073625e-04,\n",
              "       -1.9331145e-03, -2.8683303e-04,  2.7809760e-03, -7.5719371e-03,\n",
              "        5.5974921e-05,  4.9886439e-04,  1.3348416e-03, -7.7343284e-04,\n",
              "        2.7771115e-03, -4.2000520e-03,  2.8900935e-03,  3.7529285e-03,\n",
              "       -1.1369874e-03, -4.5051719e-03, -4.7775712e-03,  5.3634499e-03],\n",
              "      dtype=float32)"
            ]
          },
          "metadata": {},
          "execution_count": 9
        }
      ],
      "source": [
        "# What does the averaged version look like?\n",
        "X_train_vect_avg[0]"
      ]
    },
    {
      "cell_type": "markdown",
      "metadata": {
        "id": "oubpmV7fXjfl"
      },
      "source": [
        "### Fit RandomForestClassifier On Top Of Word Vectors"
      ]
    },
    {
      "cell_type": "code",
      "execution_count": 10,
      "metadata": {
        "id": "QzIcKRaeXjfl"
      },
      "outputs": [],
      "source": [
        "# Instantiate and fit a basic Random Forest model on top of the vectors\n",
        "from sklearn.ensemble import RandomForestClassifier\n",
        "\n",
        "rf = RandomForestClassifier()\n",
        "rf_model = rf.fit(X_train_vect_avg, y_train.values.ravel())"
      ]
    },
    {
      "cell_type": "code",
      "execution_count": 11,
      "metadata": {
        "id": "xjMZfFt6Xjfm"
      },
      "outputs": [],
      "source": [
        "# Use the trained model to make predictions on the test data\n",
        "y_pred = rf_model.predict(X_test_vect_avg)"
      ]
    },
    {
      "cell_type": "code",
      "execution_count": 12,
      "metadata": {
        "colab": {
          "base_uri": "https://localhost:8080/"
        },
        "id": "1gz3zBdOXjfn",
        "outputId": "282fdd96-6944-4962-adce-e5e2e7003955"
      },
      "outputs": [
        {
          "output_type": "stream",
          "name": "stdout",
          "text": [
            "Precision: 0.5 / Recall: 0.2 / Accuracy: 0.865\n"
          ]
        }
      ],
      "source": [
        "# Evaluate the predictions of the model on the holdout test set\n",
        "from sklearn.metrics import precision_score, recall_score\n",
        "\n",
        "precision = precision_score(y_test, y_pred)\n",
        "recall = recall_score(y_test, y_pred)\n",
        "print('Precision: {} / Recall: {} / Accuracy: {}'.format(\n",
        "    round(precision, 3), round(recall, 3), round((y_pred==y_test['label']).sum()/len(y_pred), 3)))\n",
        "\n",
        "# Here we got very less scores as compared to tfidf"
      ]
    },
    {
      "cell_type": "code",
      "execution_count": null,
      "metadata": {
        "id": "vMzcWBOhXjfo"
      },
      "outputs": [],
      "source": []
    }
  ],
  "metadata": {
    "kernelspec": {
      "display_name": "Python 3",
      "language": "python",
      "name": "python3"
    },
    "language_info": {
      "codemirror_mode": {
        "name": "ipython",
        "version": 3
      },
      "file_extension": ".py",
      "mimetype": "text/x-python",
      "name": "python",
      "nbconvert_exporter": "python",
      "pygments_lexer": "ipython3",
      "version": "3.6.2"
    },
    "colab": {
      "provenance": []
    }
  },
  "nbformat": 4,
  "nbformat_minor": 0
}
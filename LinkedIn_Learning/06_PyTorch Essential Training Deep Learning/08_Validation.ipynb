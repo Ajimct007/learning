{
  "nbformat": 4,
  "nbformat_minor": 0,
  "metadata": {
    "colab": {
      "provenance": [],
      "gpuType": "T4"
    },
    "language_info": {
      "codemirror_mode": {
        "name": "ipython",
        "version": 3
      },
      "file_extension": ".py",
      "mimetype": "text/x-python",
      "name": "python",
      "nbconvert_exporter": "python",
      "pygments_lexer": "ipython3",
      "version": "3.6.8"
    },
    "kernelspec": {
      "name": "python3",
      "display_name": "Python 3"
    },
    "accelerator": "GPU"
  },
  "cells": [
    {
      "cell_type": "markdown",
      "metadata": {
        "id": "gXmCHcwKs6rd"
      },
      "source": [
        "# Validation"
      ]
    },
    {
      "cell_type": "code",
      "metadata": {
        "id": "PzCCniVwNTdp"
      },
      "source": [
        "# Setting seeds to try and ensure we have the same results - this is not guaranteed across PyTorch releases.\n",
        "import torch\n",
        "torch.manual_seed(0)\n",
        "torch.backends.cudnn.deterministic = True\n",
        "torch.backends.cudnn.benchmark = False\n",
        "\n",
        "import numpy as np\n",
        "np.random.seed(0)"
      ],
      "execution_count": 1,
      "outputs": []
    },
    {
      "cell_type": "code",
      "metadata": {
        "id": "PCJzXv0OK1Bs",
        "colab": {
          "base_uri": "https://localhost:8080/"
        },
        "outputId": "11858e08-0692-4136-81d4-a174451032bb"
      },
      "source": [
        "from torchvision import datasets, transforms\n",
        "import torch.nn.functional as F\n",
        "from torch import nn\n",
        "\n",
        "mean, std = (0.5,), (0.5,)\n",
        "\n",
        "# Create a transform and normalise data\n",
        "transform = transforms.Compose([transforms.ToTensor(),\n",
        "                                transforms.Normalize(mean, std)\n",
        "                              ])\n",
        "\n",
        "# Download FMNIST training dataset and load training data\n",
        "trainset = datasets.FashionMNIST('~/.pytorch/FMNIST/', download=True, train=True, transform=transform)\n",
        "trainloader = torch.utils.data.DataLoader(trainset, batch_size=64, shuffle=True)\n",
        "\n",
        "# Download FMNIST test dataset and load test data\n",
        "testset = datasets.FashionMNIST('~/.pytorch/FMNIST/', download=True, train=False, transform=transform)\n",
        "testloader = torch.utils.data.DataLoader(testset, batch_size=64, shuffle=False)"
      ],
      "execution_count": 2,
      "outputs": [
        {
          "output_type": "stream",
          "name": "stdout",
          "text": [
            "Downloading http://fashion-mnist.s3-website.eu-central-1.amazonaws.com/train-images-idx3-ubyte.gz\n",
            "Downloading http://fashion-mnist.s3-website.eu-central-1.amazonaws.com/train-images-idx3-ubyte.gz to /root/.pytorch/FMNIST/FashionMNIST/raw/train-images-idx3-ubyte.gz\n"
          ]
        },
        {
          "output_type": "stream",
          "name": "stderr",
          "text": [
            "100%|██████████| 26421880/26421880 [00:01<00:00, 16928211.05it/s]\n"
          ]
        },
        {
          "output_type": "stream",
          "name": "stdout",
          "text": [
            "Extracting /root/.pytorch/FMNIST/FashionMNIST/raw/train-images-idx3-ubyte.gz to /root/.pytorch/FMNIST/FashionMNIST/raw\n",
            "\n",
            "Downloading http://fashion-mnist.s3-website.eu-central-1.amazonaws.com/train-labels-idx1-ubyte.gz\n",
            "Downloading http://fashion-mnist.s3-website.eu-central-1.amazonaws.com/train-labels-idx1-ubyte.gz to /root/.pytorch/FMNIST/FashionMNIST/raw/train-labels-idx1-ubyte.gz\n"
          ]
        },
        {
          "output_type": "stream",
          "name": "stderr",
          "text": [
            "100%|██████████| 29515/29515 [00:00<00:00, 297560.96it/s]\n"
          ]
        },
        {
          "output_type": "stream",
          "name": "stdout",
          "text": [
            "Extracting /root/.pytorch/FMNIST/FashionMNIST/raw/train-labels-idx1-ubyte.gz to /root/.pytorch/FMNIST/FashionMNIST/raw\n",
            "\n",
            "Downloading http://fashion-mnist.s3-website.eu-central-1.amazonaws.com/t10k-images-idx3-ubyte.gz\n",
            "Downloading http://fashion-mnist.s3-website.eu-central-1.amazonaws.com/t10k-images-idx3-ubyte.gz to /root/.pytorch/FMNIST/FashionMNIST/raw/t10k-images-idx3-ubyte.gz\n"
          ]
        },
        {
          "output_type": "stream",
          "name": "stderr",
          "text": [
            "100%|██████████| 4422102/4422102 [00:00<00:00, 4975490.94it/s]\n"
          ]
        },
        {
          "output_type": "stream",
          "name": "stdout",
          "text": [
            "Extracting /root/.pytorch/FMNIST/FashionMNIST/raw/t10k-images-idx3-ubyte.gz to /root/.pytorch/FMNIST/FashionMNIST/raw\n",
            "\n",
            "Downloading http://fashion-mnist.s3-website.eu-central-1.amazonaws.com/t10k-labels-idx1-ubyte.gz\n",
            "Downloading http://fashion-mnist.s3-website.eu-central-1.amazonaws.com/t10k-labels-idx1-ubyte.gz to /root/.pytorch/FMNIST/FashionMNIST/raw/t10k-labels-idx1-ubyte.gz\n"
          ]
        },
        {
          "output_type": "stream",
          "name": "stderr",
          "text": [
            "100%|██████████| 5148/5148 [00:00<00:00, 21315179.66it/s]"
          ]
        },
        {
          "output_type": "stream",
          "name": "stdout",
          "text": [
            "Extracting /root/.pytorch/FMNIST/FashionMNIST/raw/t10k-labels-idx1-ubyte.gz to /root/.pytorch/FMNIST/FashionMNIST/raw\n",
            "\n"
          ]
        },
        {
          "output_type": "stream",
          "name": "stderr",
          "text": [
            "\n"
          ]
        }
      ]
    },
    {
      "cell_type": "code",
      "metadata": {
        "id": "rqMqFbIVrbFH"
      },
      "source": [
        "class FMNIST(nn.Module):\n",
        "  def __init__(self):\n",
        "    super().__init__()\n",
        "    self.fc1 = nn.Linear(784, 128)\n",
        "    self.fc2 = nn.Linear(128,64)\n",
        "    self.fc3 = nn.Linear(64,10)\n",
        "\n",
        "  def forward(self, x):\n",
        "    x = x.view(x.shape[0], -1)\n",
        "\n",
        "    x = F.relu(self.fc1(x))\n",
        "    x = F.relu(self.fc2(x))\n",
        "    x = self.fc3(x)\n",
        "    x = F.log_softmax(x, dim=1)\n",
        "\n",
        "    return x\n",
        "\n",
        "model = FMNIST()"
      ],
      "execution_count": 3,
      "outputs": []
    },
    {
      "cell_type": "code",
      "metadata": {
        "id": "oNNyI5YRZ7H1",
        "colab": {
          "base_uri": "https://localhost:8080/"
        },
        "outputId": "dc5784b5-dd4d-4a33-a28d-142ba3707fc2"
      },
      "source": [
        "from torch import optim\n",
        "\n",
        "criterion = nn.NLLLoss()\n",
        "optimizer = optim.SGD(model.parameters(), lr=0.01)\n",
        "\n",
        "num_epochs = 3\n",
        "\n",
        "for i in range(num_epochs):\n",
        "    cum_loss = 0\n",
        "\n",
        "    for images, labels in trainloader:\n",
        "        optimizer.zero_grad()\n",
        "        output = model(images)\n",
        "        loss = criterion(output, labels)\n",
        "        loss.backward()\n",
        "        optimizer.step()\n",
        "\n",
        "        cum_loss += loss.item()\n",
        "\n",
        "    print(f\"Training loss: {cum_loss/len(trainloader)}\")"
      ],
      "execution_count": 4,
      "outputs": [
        {
          "output_type": "stream",
          "name": "stdout",
          "text": [
            "Training loss: 1.0341349944059275\n",
            "Training loss: 0.5616475172769795\n",
            "Training loss: 0.4920067817036277\n"
          ]
        }
      ]
    },
    {
      "cell_type": "code",
      "metadata": {
        "id": "UWYw7ZOzsS8U"
      },
      "source": [
        "import matplotlib.pyplot as plt\n",
        "%matplotlib inline\n",
        "\n",
        "images, labels = next(iter(testloader))\n",
        "\n",
        "test_image_id = 0\n",
        "img = images[test_image_id].view(1, 784)\n",
        "\n",
        "with torch.no_grad():\n",
        "    logps = model(img)"
      ],
      "execution_count": 5,
      "outputs": []
    },
    {
      "cell_type": "code",
      "metadata": {
        "id": "2tRjoEDSqY8X",
        "colab": {
          "base_uri": "https://localhost:8080/"
        },
        "outputId": "dca2ccd5-63c5-42f2-e1b8-2ae77d2b36b0"
      },
      "source": [
        "ps = torch.exp(logps)\n",
        "ps"
      ],
      "execution_count": 6,
      "outputs": [
        {
          "output_type": "execute_result",
          "data": {
            "text/plain": [
              "tensor([[2.3705e-06, 9.4471e-07, 1.3340e-05, 2.6119e-06, 7.0657e-06, 1.0298e-01,\n",
              "         5.9918e-06, 5.1967e-01, 5.0446e-03, 3.7227e-01]])"
            ]
          },
          "metadata": {},
          "execution_count": 6
        }
      ]
    },
    {
      "cell_type": "code",
      "metadata": {
        "id": "dpP_RLV-qkc6",
        "colab": {
          "base_uri": "https://localhost:8080/"
        },
        "outputId": "e7af3b65-cf33-4588-cecc-55bf81e1d6be"
      },
      "source": [
        "nps = ps.numpy()[0]\n",
        "nps"
      ],
      "execution_count": 7,
      "outputs": [
        {
          "output_type": "execute_result",
          "data": {
            "text/plain": [
              "array([2.37051108e-06, 9.44707267e-07, 1.33398435e-05, 2.61188529e-06,\n",
              "       7.06566880e-06, 1.02978423e-01, 5.99183340e-06, 5.19673884e-01,\n",
              "       5.04460791e-03, 3.72270763e-01], dtype=float32)"
            ]
          },
          "metadata": {},
          "execution_count": 7
        }
      ]
    },
    {
      "cell_type": "code",
      "metadata": {
        "id": "kBf23XrtqrB6",
        "colab": {
          "base_uri": "https://localhost:8080/",
          "height": 516
        },
        "outputId": "876558f5-1a51-4373-b578-374e13e302ce"
      },
      "source": [
        "FMNIST_labels = ['T-shirt/top','Trouser','Pullover','Dress','Coat','Sandal','Shirt','Sport Shoes','Bag','Ankle Boots']\n",
        "plt.xticks(np.arange(10),labels=FMNIST_labels,rotation='vertical')\n",
        "plt.bar(np.arange(10), nps)"
      ],
      "execution_count": 8,
      "outputs": [
        {
          "output_type": "execute_result",
          "data": {
            "text/plain": [
              "<BarContainer object of 10 artists>"
            ]
          },
          "metadata": {},
          "execution_count": 8
        },
        {
          "output_type": "display_data",
          "data": {
            "text/plain": [
              "<Figure size 640x480 with 1 Axes>"
            ],
            "image/png": "[encoded data removed]"
          },
          "metadata": {}
        }
      ]
    },
    {
      "cell_type": "code",
      "metadata": {
        "id": "Y7gY5hARpOp4",
        "colab": {
          "base_uri": "https://localhost:8080/",
          "height": 447
        },
        "outputId": "271b811f-3fc5-4f37-86e5-87bcc646d93f"
      },
      "source": [
        "def denormalize(tensor):\n",
        "  tensor = tensor*0.5 + 0.5\n",
        "  return tensor\n",
        "\n",
        "img = img.view(28,-1)\n",
        "img = denormalize(img)\n",
        "plt.imshow(img,cmap='gray')"
      ],
      "execution_count": 9,
      "outputs": [
        {
          "output_type": "execute_result",
          "data": {
            "text/plain": [
              "<matplotlib.image.AxesImage at 0x7f6e029a64d0>"
            ]
          },
          "metadata": {},
          "execution_count": 9
        },
        {
          "output_type": "display_data",
          "data": {
            "text/plain": [
              "<Figure size 640x480 with 1 Axes>"
            ],
            "image/png": "[encoded data removed]"
          },
          "metadata": {}
        }
      ]
    },
    {
      "cell_type": "code",
      "metadata": {
        "id": "AxTiil7cXOAz",
        "colab": {
          "base_uri": "https://localhost:8080/"
        },
        "outputId": "ce1a6b52-92ba-48b0-ec68-893f8f49a773"
      },
      "source": [
        "with torch.no_grad():\n",
        "    num_correct = 0\n",
        "    total = 0\n",
        "\n",
        "    cnt = 0\n",
        "    for images, labels in testloader:\n",
        "\n",
        "        logps = model(images)\n",
        "        output = torch.exp(logps)\n",
        "        print(output)\n",
        "        cnt+=1\n",
        "\n",
        "        if cnt > 0:\n",
        "          break"
      ],
      "execution_count": 10,
      "outputs": [
        {
          "output_type": "stream",
          "name": "stdout",
          "text": [
            "tensor([[2.3705e-06, 9.4471e-07, 1.3340e-05, 2.6119e-06, 7.0657e-06, 1.0298e-01,\n",
            "         5.9918e-06, 5.1967e-01, 5.0446e-03, 3.7227e-01],\n",
            "        [6.9981e-04, 5.7816e-05, 9.5042e-01, 9.1200e-05, 1.4326e-02, 5.8311e-06,\n",
            "         3.4065e-02, 4.7163e-09, 3.3923e-04, 2.0338e-07],\n",
            "        [6.2727e-06, 9.9988e-01, 2.1912e-05, 5.9437e-05, 3.0694e-05, 1.0227e-08,\n",
            "         7.5643e-08, 4.3015e-07, 1.5239e-09, 4.3086e-09],\n",
            "        [1.7003e-06, 9.9970e-01, 2.6613e-05, 2.4829e-04, 2.4129e-05, 7.6917e-08,\n",
            "         6.2570e-08, 1.9648e-06, 3.7890e-09, 2.5373e-08],\n",
            "        [1.2294e-01, 1.4006e-03, 2.5262e-01, 1.6376e-02, 1.6295e-02, 2.5493e-04,\n",
            "         5.8385e-01, 2.1190e-06, 6.2563e-03, 1.1421e-05],\n",
            "        [8.3738e-04, 9.9299e-01, 6.6346e-04, 1.4449e-03, 4.0054e-03, 2.5665e-07,\n",
            "         4.9611e-05, 3.7858e-06, 4.6079e-07, 1.2054e-07],\n",
            "        [1.3390e-02, 2.5452e-03, 1.0458e-01, 1.2688e-03, 7.5056e-01, 1.3765e-04,\n",
            "         1.2587e-01, 1.6473e-06, 1.6432e-03, 1.1616e-06],\n",
            "        [7.0332e-03, 9.1429e-04, 1.8413e-01, 4.2777e-03, 2.1281e-01, 4.8157e-04,\n",
            "         5.8040e-01, 1.4264e-06, 9.9468e-03, 6.1104e-06],\n",
            "        [1.2459e-02, 8.7699e-03, 3.5232e-02, 3.9675e-02, 6.3245e-03, 6.1342e-01,\n",
            "         1.1479e-02, 2.4442e-01, 2.6752e-02, 1.4716e-03],\n",
            "        [7.5757e-06, 8.3442e-06, 1.1096e-05, 4.3206e-05, 2.4296e-05, 9.4909e-03,\n",
            "         6.0709e-06, 9.8845e-01, 8.8851e-04, 1.0712e-03],\n",
            "        [6.3596e-04, 2.4877e-02, 5.2661e-01, 1.1456e-03, 4.1114e-01, 4.4197e-05,\n",
            "         3.5389e-02, 4.0511e-07, 1.5516e-04, 3.4286e-06],\n",
            "        [1.1064e-04, 8.0308e-05, 1.3961e-03, 1.2836e-04, 4.2674e-04, 6.5588e-01,\n",
            "         3.2527e-04, 2.7444e-01, 1.4912e-02, 5.2303e-02],\n",
            "        [3.8523e-04, 2.8397e-04, 4.9343e-03, 3.5019e-03, 1.9678e-03, 7.5551e-01,\n",
            "         1.0035e-03, 1.2813e-01, 1.0309e-01, 1.1926e-03],\n",
            "        [1.3505e-03, 4.9530e-03, 2.7264e-04, 9.9070e-01, 3.0441e-04, 3.5130e-06,\n",
            "         3.8747e-04, 1.5774e-03, 4.3249e-04, 1.6113e-05],\n",
            "        [3.9609e-04, 1.5378e-04, 3.5341e-02, 6.3321e-04, 8.9611e-01, 5.7422e-06,\n",
            "         6.2648e-02, 2.4873e-07, 4.7071e-03, 2.1531e-06],\n",
            "        [1.1867e-04, 9.8981e-01, 4.1124e-04, 9.2751e-03, 3.5779e-04, 4.2894e-07,\n",
            "         9.6671e-06, 1.1628e-05, 2.4094e-07, 2.4625e-07],\n",
            "        [6.0511e-02, 1.5989e-02, 8.0606e-01, 5.1004e-03, 2.1791e-02, 4.8757e-04,\n",
            "         8.9410e-02, 1.4208e-06, 6.4055e-04, 4.9498e-06],\n",
            "        [2.2332e-02, 3.9230e-04, 4.0502e-01, 2.3461e-03, 1.9452e-01, 4.3609e-05,\n",
            "         3.6672e-01, 3.3236e-07, 8.6215e-03, 3.5644e-06],\n",
            "        [5.7988e-04, 7.9218e-06, 4.3608e-03, 7.9063e-05, 2.0115e-03, 7.9304e-03,\n",
            "         2.7317e-03, 2.2389e-03, 9.7812e-01, 1.9367e-03],\n",
            "        [9.4729e-01, 9.4467e-05, 3.2775e-03, 3.0738e-03, 1.0846e-04, 8.1862e-08,\n",
            "         4.6114e-02, 5.3861e-09, 3.6773e-05, 8.2918e-09],\n",
            "        [4.0603e-01, 1.5507e-02, 2.5591e-01, 1.9005e-02, 3.7193e-02, 1.5725e-03,\n",
            "         2.4811e-01, 7.2831e-05, 1.6082e-02, 5.1492e-04],\n",
            "        [2.5609e-05, 7.8931e-05, 3.4975e-04, 2.0766e-04, 2.9549e-04, 2.7841e-01,\n",
            "         5.1509e-05, 7.0810e-01, 8.9098e-03, 3.5703e-03],\n",
            "        [5.0690e-08, 3.3024e-07, 6.9429e-07, 6.5372e-07, 1.3900e-06, 7.0486e-03,\n",
            "         6.9291e-08, 9.8690e-01, 3.2420e-04, 5.7254e-03],\n",
            "        [4.9442e-06, 4.4442e-06, 2.0780e-05, 9.6982e-06, 9.4903e-06, 1.6210e-01,\n",
            "         3.7976e-06, 8.0250e-01, 1.3826e-03, 3.3957e-02],\n",
            "        [1.8518e-06, 9.9976e-01, 1.4864e-05, 2.0018e-04, 1.7823e-05, 8.8913e-08,\n",
            "         3.9286e-08, 4.0386e-06, 4.1547e-09, 2.4551e-08],\n",
            "        [3.8764e-03, 4.1227e-03, 8.8235e-01, 1.1649e-02, 3.4392e-02, 1.9602e-03,\n",
            "         5.7491e-02, 4.6696e-06, 4.1501e-03, 5.5220e-06],\n",
            "        [1.2352e-03, 2.2841e-04, 1.7666e-01, 5.4865e-04, 4.1101e-01, 2.1872e-05,\n",
            "         4.0733e-01, 6.3684e-08, 2.9635e-03, 3.2184e-06],\n",
            "        [4.5879e-01, 3.5483e-02, 1.2073e-02, 4.0189e-01, 3.1572e-02, 2.1182e-07,\n",
            "         6.0003e-02, 3.5460e-06, 1.8109e-04, 3.3181e-07],\n",
            "        [6.0473e-07, 1.4517e-07, 1.8876e-06, 3.4820e-07, 1.6300e-06, 1.4667e-02,\n",
            "         9.7178e-07, 3.8212e-01, 3.4797e-03, 5.9973e-01],\n",
            "        [7.3563e-02, 2.4497e-03, 1.0468e-02, 2.1827e-01, 3.9324e-01, 1.3749e-06,\n",
            "         2.9679e-01, 1.0957e-05, 5.2021e-03, 1.8534e-06],\n",
            "        [5.3314e-06, 1.0825e-07, 1.1946e-04, 1.4766e-05, 5.9795e-04, 6.6810e-04,\n",
            "         1.5897e-04, 2.4305e-04, 9.9807e-01, 1.1772e-04],\n",
            "        [1.3253e-02, 2.6971e-05, 9.4386e-03, 3.8765e-02, 3.0958e-03, 6.7396e-04,\n",
            "         3.1665e-02, 1.0346e-04, 9.0295e-01, 3.1134e-05],\n",
            "        [7.3216e-03, 9.2117e-03, 5.1148e-03, 9.5716e-01, 4.9739e-03, 2.5937e-04,\n",
            "         7.5553e-03, 2.4627e-03, 5.8854e-03, 5.4106e-05],\n",
            "        [5.2764e-02, 9.4422e-04, 2.0132e-02, 8.4581e-01, 8.8468e-03, 6.2001e-07,\n",
            "         6.9613e-02, 4.8384e-06, 1.8801e-03, 3.3058e-07],\n",
            "        [3.2657e-04, 6.5685e-06, 1.2329e-02, 2.6351e-03, 1.3797e-03, 3.1164e-03,\n",
            "         3.3740e-03, 1.6448e-04, 9.7663e-01, 3.8903e-05],\n",
            "        [7.2534e-01, 8.2078e-04, 2.7169e-02, 3.6752e-02, 1.5289e-03, 3.7279e-05,\n",
            "         2.0718e-01, 1.8966e-06, 1.1716e-03, 9.1015e-07],\n",
            "        [1.9666e-06, 8.0220e-06, 3.6482e-06, 8.4609e-06, 1.3905e-05, 5.4759e-03,\n",
            "         1.4548e-06, 9.9253e-01, 2.2220e-04, 1.7340e-03],\n",
            "        [2.4486e-03, 8.8126e-04, 6.4055e-03, 5.0931e-03, 7.8505e-04, 8.7967e-01,\n",
            "         3.4259e-03, 9.2658e-02, 7.4526e-03, 1.1770e-03],\n",
            "        [1.1197e-06, 8.3139e-06, 7.8491e-06, 5.7544e-06, 2.6202e-05, 5.9885e-03,\n",
            "         1.2516e-06, 9.9174e-01, 3.9263e-04, 1.8303e-03],\n",
            "        [5.5725e-08, 1.0689e-08, 1.5781e-07, 1.3172e-08, 8.7085e-08, 2.2568e-03,\n",
            "         1.1730e-07, 3.1161e-02, 3.2884e-04, 9.6625e-01],\n",
            "        [6.5264e-01, 1.3071e-05, 1.8964e-03, 2.6812e-03, 9.1498e-04, 5.8739e-08,\n",
            "         3.4161e-01, 7.3572e-09, 2.4420e-04, 3.7409e-08],\n",
            "        [3.2762e-06, 9.9980e-01, 1.4166e-05, 1.3696e-04, 4.2352e-05, 1.8038e-08,\n",
            "         8.0369e-08, 6.0589e-06, 2.3198e-09, 5.4549e-08],\n",
            "        [1.7853e-01, 8.8841e-03, 6.8978e-02, 2.2797e-01, 2.2204e-01, 2.4244e-06,\n",
            "         2.9071e-01, 1.9636e-06, 2.8842e-03, 3.9417e-07],\n",
            "        [1.4033e-07, 6.5318e-08, 2.8299e-07, 3.6298e-08, 1.5342e-07, 1.2298e-02,\n",
            "         1.0863e-07, 4.4080e-01, 1.3192e-04, 5.4677e-01],\n",
            "        [3.5536e-03, 1.2296e-04, 1.8939e-01, 1.6116e-03, 2.3781e-01, 3.9201e-06,\n",
            "         5.6567e-01, 1.1914e-08, 1.8448e-03, 1.6580e-07],\n",
            "        [3.1361e-04, 6.0481e-05, 6.0556e-04, 2.5756e-04, 1.8434e-04, 3.7187e-01,\n",
            "         4.2237e-04, 5.5262e-01, 1.9593e-02, 5.4071e-02],\n",
            "        [2.3276e-02, 1.0118e-03, 8.0602e-01, 2.6951e-03, 1.9697e-02, 4.4283e-05,\n",
            "         1.4559e-01, 1.0395e-07, 1.6619e-03, 2.7224e-06],\n",
            "        [3.7428e-04, 9.6606e-01, 4.7245e-04, 3.2018e-02, 9.9030e-04, 2.2493e-07,\n",
            "         2.2985e-05, 6.1660e-05, 7.3565e-07, 7.5260e-07],\n",
            "        [1.0368e-03, 3.4910e-02, 6.7831e-01, 9.2611e-03, 2.5371e-01, 3.0113e-04,\n",
            "         2.1685e-02, 4.0932e-06, 7.7530e-04, 4.1568e-06],\n",
            "        [6.4665e-03, 2.4356e-04, 3.0105e-01, 2.3792e-03, 7.8912e-02, 4.5508e-05,\n",
            "         6.0656e-01, 9.0607e-08, 4.3440e-03, 1.9878e-06],\n",
            "        [1.0890e-02, 6.0390e-04, 3.1166e-01, 9.0493e-04, 4.1885e-01, 7.3162e-05,\n",
            "         2.4893e-01, 4.5726e-07, 8.0853e-03, 7.2632e-06],\n",
            "        [4.9880e-03, 1.3173e-03, 8.1366e-01, 2.7576e-03, 3.1298e-02, 1.3144e-03,\n",
            "         1.4253e-01, 8.2245e-07, 2.1393e-03, 1.9549e-06],\n",
            "        [4.0181e-03, 3.9188e-03, 1.2506e-02, 1.1207e-02, 1.3117e-03, 6.9674e-01,\n",
            "         3.4236e-03, 2.5303e-01, 8.2343e-03, 5.6126e-03],\n",
            "        [5.0691e-02, 1.7927e-04, 1.4746e-01, 1.8368e-03, 2.3915e-02, 3.4025e-03,\n",
            "         5.3381e-01, 1.1630e-05, 2.3762e-01, 1.0712e-03],\n",
            "        [8.3299e-03, 4.0669e-02, 6.2239e-01, 2.4041e-02, 2.6627e-01, 4.1405e-05,\n",
            "         3.7162e-02, 1.9260e-06, 1.0903e-03, 1.2670e-06],\n",
            "        [4.5382e-02, 2.0032e-03, 8.8168e-01, 1.7040e-03, 7.7040e-03, 1.1272e-04,\n",
            "         5.9895e-02, 2.3004e-07, 1.5144e-03, 6.4098e-06],\n",
            "        [3.8590e-04, 6.7205e-07, 1.3369e-03, 3.6496e-05, 2.7812e-03, 3.3373e-04,\n",
            "         2.2487e-03, 8.5166e-05, 9.9274e-01, 5.0417e-05],\n",
            "        [4.6312e-04, 5.0013e-04, 5.2147e-01, 1.1374e-03, 3.8249e-01, 2.5180e-05,\n",
            "         9.1991e-02, 1.4821e-07, 1.9262e-03, 1.1639e-06],\n",
            "        [3.1134e-04, 3.9056e-07, 1.0823e-03, 2.2790e-05, 1.0687e-03, 6.3549e-04,\n",
            "         2.0339e-03, 1.5311e-04, 9.9462e-01, 7.2550e-05],\n",
            "        [8.0405e-01, 1.9803e-02, 4.8787e-02, 3.3695e-02, 3.7285e-03, 1.6282e-04,\n",
            "         8.9260e-02, 1.8384e-05, 4.9198e-04, 6.7575e-06],\n",
            "        [8.0014e-07, 1.9031e-06, 2.3722e-06, 4.2966e-06, 3.6952e-06, 7.5598e-03,\n",
            "         6.2556e-07, 9.9101e-01, 1.5386e-04, 1.2590e-03],\n",
            "        [3.0918e-07, 5.7497e-07, 1.9584e-06, 2.3058e-06, 3.4625e-06, 1.4626e-02,\n",
            "         4.5780e-07, 9.7013e-01, 1.2097e-03, 1.4025e-02],\n",
            "        [1.2210e-06, 1.0640e-06, 2.1145e-04, 1.3208e-05, 1.1593e-03, 5.3821e-03,\n",
            "         3.4088e-05, 7.7112e-03, 9.8284e-01, 2.6488e-03],\n",
            "        [6.8196e-04, 1.7838e-04, 2.9350e-03, 7.1424e-04, 3.2119e-04, 9.4965e-01,\n",
            "         1.2796e-03, 3.3596e-02, 7.5155e-03, 3.1300e-03]])\n"
          ]
        }
      ]
    },
    {
      "cell_type": "code",
      "metadata": {
        "id": "6Ij_wa7paveM"
      },
      "source": [
        "with torch.no_grad():\n",
        "    num_correct = 0\n",
        "    total = 0\n",
        "\n",
        "    #set_trace()\n",
        "    for images, labels in testloader:\n",
        "\n",
        "        logps = model(images)\n",
        "        output = torch.exp(logps)\n",
        "\n",
        "        pred = torch.argmax(output, 1)\n",
        "        total += labels.size(0)\n"
      ],
      "execution_count": 11,
      "outputs": []
    },
    {
      "cell_type": "code",
      "metadata": {
        "id": "nyxadgAyiRqg",
        "colab": {
          "base_uri": "https://localhost:8080/"
        },
        "outputId": "b87e982a-f69d-4fb8-8252-0030706ba09e"
      },
      "source": [
        "pred, labels"
      ],
      "execution_count": 12,
      "outputs": [
        {
          "output_type": "execute_result",
          "data": {
            "text/plain": [
              "(tensor([3, 1, 7, 5, 8, 2, 5, 2, 8, 9, 1, 9, 1, 8, 1, 5]),\n",
              " tensor([3, 2, 7, 5, 8, 4, 5, 6, 8, 9, 1, 9, 1, 8, 1, 5]))"
            ]
          },
          "metadata": {},
          "execution_count": 12
        }
      ]
    },
    {
      "cell_type": "code",
      "metadata": {
        "id": "ojLPwZLdi3OX",
        "colab": {
          "base_uri": "https://localhost:8080/"
        },
        "outputId": "70293693-f02c-4f60-a60c-79ea1a49f869"
      },
      "source": [
        "pred == labels"
      ],
      "execution_count": 13,
      "outputs": [
        {
          "output_type": "execute_result",
          "data": {
            "text/plain": [
              "tensor([ True, False,  True,  True,  True, False,  True, False,  True,  True,\n",
              "         True,  True,  True,  True,  True,  True])"
            ]
          },
          "metadata": {},
          "execution_count": 13
        }
      ]
    },
    {
      "cell_type": "code",
      "metadata": {
        "id": "6V-3r9n-iCMb",
        "colab": {
          "base_uri": "https://localhost:8080/"
        },
        "outputId": "689c662b-f8dc-4998-d556-f664a438de3a"
      },
      "source": [
        "with torch.no_grad():\n",
        "    num_correct = 0\n",
        "    total = 0\n",
        "\n",
        "    #set_trace()\n",
        "    for images, labels in testloader:\n",
        "\n",
        "        logps = model(images)\n",
        "        output = torch.exp(logps)\n",
        "\n",
        "        pred = torch.argmax(output, 1)\n",
        "        total += labels.size(0)\n",
        "        num_correct += (pred == labels).sum().item()\n",
        "\n",
        "    print(f'Accuracy of the model on the 10000 test images: {num_correct * 100 / total}% ')"
      ],
      "execution_count": 14,
      "outputs": [
        {
          "output_type": "stream",
          "name": "stdout",
          "text": [
            "Accuracy of the model on the 10000 test images: 81.72% \n"
          ]
        }
      ]
    }
  ]
}
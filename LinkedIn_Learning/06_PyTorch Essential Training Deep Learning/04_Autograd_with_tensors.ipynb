{
  "nbformat": 4,
  "nbformat_minor": 0,
  "metadata": {
    "colab": {
      "provenance": [],
      "gpuType": "T4"
    },
    "kernelspec": {
      "name": "python3",
      "display_name": "Python 3"
    },
    "accelerator": "GPU"
  },
  "cells": [
    {
      "cell_type": "markdown",
      "metadata": {
        "id": "KPXHZpput5Xf"
      },
      "source": [
        "# Autograd with tensors"
      ]
    },
    {
      "cell_type": "code",
      "metadata": {
        "id": "p-C6nLqAt98a"
      },
      "source": [
        "import torch"
      ],
      "execution_count": 1,
      "outputs": []
    },
    {
      "cell_type": "code",
      "metadata": {
        "id": "WRSfe0Lut952"
      },
      "source": [
        "# To keep track of operations on a tensor, make requires_grad = True\n",
        "w = torch.randn(4,3,requires_grad=True)"
      ],
      "execution_count": 2,
      "outputs": []
    },
    {
      "cell_type": "code",
      "metadata": {
        "id": "O-QcOYO1tkOn",
        "colab": {
          "base_uri": "https://localhost:8080/"
        },
        "outputId": "d3917e2c-f2c1-4978-bf01-2b4fe9775da2"
      },
      "source": [
        "w"
      ],
      "execution_count": 3,
      "outputs": [
        {
          "output_type": "execute_result",
          "data": {
            "text/plain": [
              "tensor([[ 1.4193,  2.0523, -0.3667],\n",
              "        [ 0.7994,  0.6210, -0.8814],\n",
              "        [ 0.3889,  1.4141,  0.3395],\n",
              "        [ 0.5259,  0.5030, -1.2145]], requires_grad=True)"
            ]
          },
          "metadata": {},
          "execution_count": 3
        }
      ]
    },
    {
      "cell_type": "code",
      "metadata": {
        "id": "FuWckF34t8X1",
        "colab": {
          "base_uri": "https://localhost:8080/"
        },
        "outputId": "af674f19-4710-443b-a4ef-97f1340c3f98"
      },
      "source": [
        "# Set it false\n",
        "w.requires_grad_(False)\n",
        "w"
      ],
      "execution_count": 4,
      "outputs": [
        {
          "output_type": "execute_result",
          "data": {
            "text/plain": [
              "tensor([[ 1.4193,  2.0523, -0.3667],\n",
              "        [ 0.7994,  0.6210, -0.8814],\n",
              "        [ 0.3889,  1.4141,  0.3395],\n",
              "        [ 0.5259,  0.5030, -1.2145]])"
            ]
          },
          "metadata": {},
          "execution_count": 4
        }
      ]
    },
    {
      "cell_type": "code",
      "metadata": {
        "id": "SkQCjuabt8Vh",
        "colab": {
          "base_uri": "https://localhost:8080/"
        },
        "outputId": "bfaea09a-3aae-4eec-a17d-8240bcdd527e"
      },
      "source": [
        "# Turn it true\n",
        "w.requires_grad_(True)"
      ],
      "execution_count": 5,
      "outputs": [
        {
          "output_type": "execute_result",
          "data": {
            "text/plain": [
              "tensor([[ 1.4193,  2.0523, -0.3667],\n",
              "        [ 0.7994,  0.6210, -0.8814],\n",
              "        [ 0.3889,  1.4141,  0.3395],\n",
              "        [ 0.5259,  0.5030, -1.2145]], requires_grad=True)"
            ]
          },
          "metadata": {},
          "execution_count": 5
        }
      ]
    },
    {
      "cell_type": "code",
      "metadata": {
        "id": "rvggJC5wt8Ti",
        "colab": {
          "base_uri": "https://localhost:8080/"
        },
        "outputId": "d12018c2-74e1-4b1a-c5fb-fdf70d5c6faf"
      },
      "source": [
        "# Crreate a new tensor y\n",
        "y = torch.exp(w)\n",
        "print(y)"
      ],
      "execution_count": 6,
      "outputs": [
        {
          "output_type": "stream",
          "name": "stdout",
          "text": [
            "tensor([[4.1342, 7.7860, 0.6931],\n",
            "        [2.2242, 1.8608, 0.4142],\n",
            "        [1.4753, 4.1129, 1.4042],\n",
            "        [1.6920, 1.6537, 0.2969]], grad_fn=<ExpBackward0>)\n"
          ]
        }
      ]
    },
    {
      "cell_type": "code",
      "metadata": {
        "id": "PEg2PQiXt8RR",
        "colab": {
          "base_uri": "https://localhost:8080/"
        },
        "outputId": "adba4329-d02d-4f34-f097-9c6078d62f89"
      },
      "source": [
        "# print the gradent function of y\n",
        "print(y.grad_fn)"
      ],
      "execution_count": 7,
      "outputs": [
        {
          "output_type": "stream",
          "name": "stdout",
          "text": [
            "<ExpBackward0 object at 0x7c39c8bcf220>\n"
          ]
        }
      ]
    },
    {
      "cell_type": "code",
      "metadata": {
        "id": "QZopoC8It8O7",
        "colab": {
          "base_uri": "https://localhost:8080/"
        },
        "outputId": "f30e577f-b65a-4b74-f5e6-210395e7f758"
      },
      "source": [
        "# create another tensor\n",
        "outp = y.mean()\n",
        "print(outp)"
      ],
      "execution_count": 8,
      "outputs": [
        {
          "output_type": "stream",
          "name": "stdout",
          "text": [
            "tensor(2.3123, grad_fn=<MeanBackward0>)\n"
          ]
        }
      ]
    },
    {
      "cell_type": "code",
      "metadata": {
        "id": "ManI6K2rt8HD",
        "colab": {
          "base_uri": "https://localhost:8080/"
        },
        "outputId": "ca4d728f-818e-4cd2-de2d-c4420f8fc7a1"
      },
      "source": [
        "# we dont have gradients for 'w'\n",
        "print(w.grad)"
      ],
      "execution_count": 9,
      "outputs": [
        {
          "output_type": "stream",
          "name": "stdout",
          "text": [
            "None\n"
          ]
        }
      ]
    },
    {
      "cell_type": "code",
      "metadata": {
        "id": "tbQpKI4it8EJ"
      },
      "source": [
        "# Running the backward\n",
        "outp.backward()"
      ],
      "execution_count": 10,
      "outputs": []
    },
    {
      "cell_type": "code",
      "metadata": {
        "id": "Qq3KkSGvt8B_",
        "colab": {
          "base_uri": "https://localhost:8080/"
        },
        "outputId": "5c9ad0ca-4a43-4def-9966-0e3d5459a6b1"
      },
      "source": [
        "# Print the values of the gradients for W\n",
        "print(w.grad)"
      ],
      "execution_count": 11,
      "outputs": [
        {
          "output_type": "stream",
          "name": "stdout",
          "text": [
            "tensor([[0.3445, 0.6488, 0.0578],\n",
            "        [0.1854, 0.1551, 0.0345],\n",
            "        [0.1229, 0.3427, 0.1170],\n",
            "        [0.1410, 0.1378, 0.0247]])\n"
          ]
        }
      ]
    },
    {
      "cell_type": "code",
      "metadata": {
        "id": "SgOzb_QMt7_-",
        "colab": {
          "base_uri": "https://localhost:8080/"
        },
        "outputId": "8948215d-3d1a-4a39-ba30-acfcc351fc6d"
      },
      "source": [
        "# To stop a tensor from tracking a history, we can use the detach method\n",
        "print(w.detach())"
      ],
      "execution_count": 12,
      "outputs": [
        {
          "output_type": "stream",
          "name": "stdout",
          "text": [
            "tensor([[ 1.4193,  2.0523, -0.3667],\n",
            "        [ 0.7994,  0.6210, -0.8814],\n",
            "        [ 0.3889,  1.4141,  0.3395],\n",
            "        [ 0.5259,  0.5030, -1.2145]])\n"
          ]
        }
      ]
    },
    {
      "cell_type": "code",
      "metadata": {
        "id": "zVpIjfJ9t79q",
        "colab": {
          "base_uri": "https://localhost:8080/",
          "height": 51
        },
        "outputId": "3419f477-9b15-4b92-b06b-934513fc7177"
      },
      "source": [
        "print(outp.requires_grad)\n",
        "\n",
        "with torch.no_grad():\n",
        "  outp = (w+y).mean()\n",
        "\n",
        "print(outp.requires_grad)"
      ],
      "execution_count": null,
      "outputs": [
        {
          "output_type": "stream",
          "text": [
            "True\n",
            "False\n"
          ],
          "name": "stdout"
        }
      ]
    }
  ]
}
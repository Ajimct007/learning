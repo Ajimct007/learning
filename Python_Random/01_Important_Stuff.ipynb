{
 "cells": [
  {
   "cell_type": "markdown",
   "id": "6251e913-7ff9-4769-b38f-5d38065597ad",
   "metadata": {},
   "source": [
    "# *Arrays:*\n",
    "\r",
    "1) \n",
    "Definition: Arrays are a collection of elements, each identified by an index or a key<br>\n",
    "2) \r\n",
    "Usage: Used to store and manipulate collections of similar ite<br>\n",
    "3) \r\n",
    "Operations: Accessing, inserting, updating, and deleting elements."
   ]
  },
  {
   "cell_type": "code",
   "execution_count": 25,
   "id": "7d6b2f7b-25e6-4564-9001-4c95412ef728",
   "metadata": {},
   "outputs": [
    {
     "name": "stdout",
     "output_type": "stream",
     "text": [
      "First element: 1\n",
      "Last element: 5\n",
      "Modified array: [1, 10, 3, 4, 5]\n",
      "Array after appending 6: [1, 10, 3, 4, 5, 6]\n",
      "Removed element: 3\n",
      "Array after pop: [1, 10, 4, 5, 6]\n",
      "Index of 4: 2\n",
      "Length of the array: 5\n"
     ]
    }
   ],
   "source": [
    "# Creating an array\n",
    "my_array = [1, 2, 3, 4, 5]\n",
    "\n",
    "# Accessing elements\n",
    "print(\"First element:\", my_array[0])   # Output: 1\n",
    "print(\"Last element:\", my_array[-1])   # Output: 5\n",
    "\n",
    "# Modifying elements\n",
    "my_array[1] = 10\n",
    "print(\"Modified array:\", my_array)     # Output: [1, 10, 3, 4, 5]\n",
    "\n",
    "# Adding elements\n",
    "my_array.append(6)\n",
    "print(\"Array after appending 6:\", my_array)  # Output: [1, 10, 3, 4, 5, 6]\n",
    "\n",
    "# Removing elements\n",
    "removed_element = my_array.pop(2)\n",
    "print(\"Removed element:\", removed_element)  # Output: 3\n",
    "print(\"Array after pop:\", my_array)         # Output: [1, 10, 4, 5, 6]\n",
    "\n",
    "# Finding the index of an element\n",
    "index_of_4 = my_array.index(4)\n",
    "print(\"Index of 4:\", index_of_4)            # Output: 2\n",
    "\n",
    "# Length of the array\n",
    "array_length = len(my_array)\n",
    "print(\"Length of the array:\", array_length)  # Output: 5"
   ]
  },
  {
   "cell_type": "markdown",
   "id": "8ceac519-79f4-4be9-997e-3744382a936b",
   "metadata": {},
   "source": [
    "# Linked Lists: \n",
    "1) \n",
    "Definition: A data structure consisting of nodes where each node points to the next node in the sequence<br>\n",
    "2) \r\n",
    "Usage: Useful for dynamic memory allocation and efficient insertion/deletion operation<br>\n",
    "3) .\r\n",
    "Types: Singly linked list, doubly linked list, circular linked list."
   ]
  },
  {
   "cell_type": "code",
   "execution_count": 26,
   "id": "c20784cc-0f9a-4834-ab49-77ebd34f41d8",
   "metadata": {},
   "outputs": [
    {
     "name": "stdout",
     "output_type": "stream",
     "text": [
      "1 -> 2 -> 3 -> None\n",
      "0 -> 1 -> 2 -> 3 -> None\n",
      "0 -> 1 -> 3 -> None\n"
     ]
    }
   ],
   "source": [
    "# Node class to represent elements in the linked list\n",
    "class Node:\n",
    "    def __init__(self, data=None):\n",
    "        self.data = data\n",
    "        self.next = None\n",
    "\n",
    "# Linked List class\n",
    "class LinkedList:\n",
    "    def __init__(self):\n",
    "        self.head = None\n",
    "\n",
    "    # Method to insert a new node at the end of the linked list\n",
    "    def append(self, data):\n",
    "        new_node = Node(data)\n",
    "        if not self.head:\n",
    "            self.head = new_node\n",
    "            return\n",
    "        last_node = self.head\n",
    "        while last_node.next:\n",
    "            last_node = last_node.next\n",
    "        last_node.next = new_node\n",
    "\n",
    "    # Method to insert a new node at the beginning of the linked list\n",
    "    def prepend(self, data):\n",
    "        new_node = Node(data)\n",
    "        new_node.next = self.head\n",
    "        self.head = new_node\n",
    "\n",
    "    # Method to delete a node by value\n",
    "    def delete_node(self, key):\n",
    "        current_node = self.head\n",
    "\n",
    "        # If the node to be deleted is the head\n",
    "        if current_node and current_node.data == key:\n",
    "            self.head = current_node.next\n",
    "            current_node = None\n",
    "            return\n",
    "\n",
    "        # If the node to be deleted is not the head\n",
    "        prev_node = None\n",
    "        while current_node and current_node.data != key:\n",
    "            prev_node = current_node\n",
    "            current_node = current_node.next\n",
    "\n",
    "        if current_node is None:\n",
    "            return\n",
    "\n",
    "        prev_node.next = current_node.next\n",
    "        current_node = None\n",
    "\n",
    "    # Method to print the linked list\n",
    "    def print_list(self):\n",
    "        current_node = self.head\n",
    "        while current_node:\n",
    "            print(current_node.data, end=\" -> \")\n",
    "            current_node = current_node.next\n",
    "        print(\"None\")\n",
    "\n",
    "# Example usage\n",
    "linked_list = LinkedList()\n",
    "linked_list.append(1)\n",
    "linked_list.append(2)\n",
    "linked_list.append(3)\n",
    "linked_list.print_list()  # Output: 1 -> 2 -> 3 -> None\n",
    "\n",
    "linked_list.prepend(0)\n",
    "linked_list.print_list()  # Output: 0 -> 1 -> 2 -> 3 -> None\n",
    "\n",
    "linked_list.delete_node(2)\n",
    "linked_list.print_list()  # Output: 0 -> 1 -> 3 -> None"
   ]
  },
  {
   "cell_type": "markdown",
   "id": "fc08a837-ee0f-461f-b459-c023b71494ab",
   "metadata": {},
   "source": [
    "# Stacks: \n",
    "1) \n",
    "Definition: A Last-In, First-Out (LIFO) data structure where the last element added is the first one to be removed<br>\n",
    "2) \r\n",
    "Usage: Function call management, expression evaluation, backtracking."
   ]
  },
  {
   "cell_type": "code",
   "execution_count": 27,
   "id": "df8ee79a-dafb-4eab-894c-2a95b5233f59",
   "metadata": {},
   "outputs": [
    {
     "name": "stdout",
     "output_type": "stream",
     "text": [
      "Stack size: 3\n",
      "Top item: 3\n",
      "Popped item: 3\n",
      "Stack size after pop: 2\n"
     ]
    }
   ],
   "source": [
    "# Stack class\n",
    "class Stack:\n",
    "    def __init__(self):\n",
    "        self.items = []\n",
    "\n",
    "    # Method to check if the stack is empty\n",
    "    def is_empty(self):\n",
    "        return len(self.items) == 0\n",
    "\n",
    "    # Method to push an item onto the stack\n",
    "    def push(self, item):\n",
    "        self.items.append(item)\n",
    "\n",
    "    # Method to pop an item from the stack\n",
    "    def pop(self):\n",
    "        if not self.is_empty():\n",
    "            return self.items.pop()\n",
    "        else:\n",
    "            print(\"Stack is empty\")\n",
    "\n",
    "    # Method to peek at the top item of the stack without removing it\n",
    "    def peek(self):\n",
    "        if not self.is_empty():\n",
    "            return self.items[-1]\n",
    "        else:\n",
    "            print(\"Stack is empty\")\n",
    "\n",
    "    # Method to get the size of the stack\n",
    "    def size(self):\n",
    "        return len(self.items)\n",
    "\n",
    "# Example usage\n",
    "stack = Stack()\n",
    "\n",
    "stack.push(1)\n",
    "stack.push(2)\n",
    "stack.push(3)\n",
    "\n",
    "print(\"Stack size:\", stack.size())   # Output: 3\n",
    "print(\"Top item:\", stack.peek())     # Output: 3\n",
    "\n",
    "popped_item = stack.pop()\n",
    "print(\"Popped item:\", popped_item)   # Output: 3\n",
    "print(\"Stack size after pop:\", stack.size())  # Output: 2\n"
   ]
  },
  {
   "cell_type": "markdown",
   "id": "787059b5-443f-4dd7-86c8-441edddf2292",
   "metadata": {},
   "source": [
    "# Queues: \n",
    "1) \n",
    "Definition: A First-In, First-Out (FIFO) data structure where the first element added is the first one to be removed<br>\n",
    "2) \r\n",
    "Usage: Task scheduling, breadth-first search."
   ]
  },
  {
   "cell_type": "code",
   "execution_count": 28,
   "id": "6efd51d6-3927-41be-9c21-dd7f0a7cfe34",
   "metadata": {},
   "outputs": [
    {
     "name": "stdout",
     "output_type": "stream",
     "text": [
      "Queue size: 3\n",
      "Front item: 1\n",
      "Dequeued item: 1\n",
      "Queue size after dequeue: 2\n"
     ]
    }
   ],
   "source": [
    "from collections import deque\n",
    "\n",
    "# Queue class using deque from collections module\n",
    "class Queue:\n",
    "    def __init__(self):\n",
    "        self.items = deque()\n",
    "\n",
    "    # Method to check if the queue is empty\n",
    "    def is_empty(self):\n",
    "        return len(self.items) == 0\n",
    "\n",
    "    # Method to enqueue (add) an item to the end of the queue\n",
    "    def enqueue(self, item):\n",
    "        self.items.append(item)\n",
    "\n",
    "    # Method to dequeue (remove) an item from the front of the queue\n",
    "    def dequeue(self):\n",
    "        if not self.is_empty():\n",
    "            return self.items.popleft()\n",
    "        else:\n",
    "            print(\"Queue is empty\")\n",
    "\n",
    "    # Method to peek at the front item of the queue without removing it\n",
    "    def peek(self):\n",
    "        if not self.is_empty():\n",
    "            return self.items[0]\n",
    "        else:\n",
    "            print(\"Queue is empty\")\n",
    "\n",
    "    # Method to get the size of the queue\n",
    "    def size(self):\n",
    "        return len(self.items)\n",
    "\n",
    "# Example usage\n",
    "queue = Queue()\n",
    "\n",
    "queue.enqueue(1)\n",
    "queue.enqueue(2)\n",
    "queue.enqueue(3)\n",
    "\n",
    "print(\"Queue size:\", queue.size())   # Output: 3\n",
    "print(\"Front item:\", queue.peek())   # Output: 1\n",
    "\n",
    "dequeued_item = queue.dequeue()\n",
    "print(\"Dequeued item:\", dequeued_item)   # Output: 1\n",
    "print(\"Queue size after dequeue:\", queue.size())  # Output: 2\n"
   ]
  },
  {
   "cell_type": "markdown",
   "id": "0e167247-1aab-4b7a-bea2-da460baa5cc9",
   "metadata": {},
   "source": [
    "# Trees: \n",
    "1) \n",
    "Definition: Hierarchical data structure with a root element and subtrees of children with a parent node<br>\n",
    "2) \r\n",
    "Types: Binary trees, AVL trees, Red-Black trees, B-tree<br>\n",
    "3) .\r\n",
    "Usage: Represent hierarchical relationships, search operations."
   ]
  },
  {
   "cell_type": "code",
   "execution_count": 29,
   "id": "9d5f2ced-ad63-40e2-a80a-d230f8c39156",
   "metadata": {},
   "outputs": [
    {
     "name": "stdout",
     "output_type": "stream",
     "text": [
      "Preorder Traversal:\n",
      "1 2 4 5 3 \n",
      "Inorder Traversal:\n",
      "4 2 5 1 3 \n",
      "Postorder Traversal:\n",
      "4 5 2 3 1 "
     ]
    }
   ],
   "source": [
    "class TreeNode:\n",
    "    def __init__(self, key):\n",
    "        self.key = key\n",
    "        self.left = None\n",
    "        self.right = None\n",
    "\n",
    "# Binary Tree class\n",
    "class BinaryTree:\n",
    "    def __init__(self, root_key):\n",
    "        self.root = TreeNode(root_key)\n",
    "\n",
    "    # Method to perform a preorder traversal of the tree\n",
    "    def preorder_traversal(self, node):\n",
    "        if node:\n",
    "            print(node.key, end=\" \")\n",
    "            self.preorder_traversal(node.left)\n",
    "            self.preorder_traversal(node.right)\n",
    "\n",
    "    # Method to perform an inorder traversal of the tree\n",
    "    def inorder_traversal(self, node):\n",
    "        if node:\n",
    "            self.inorder_traversal(node.left)\n",
    "            print(node.key, end=\" \")\n",
    "            self.inorder_traversal(node.right)\n",
    "\n",
    "    # Method to perform a postorder traversal of the tree\n",
    "    def postorder_traversal(self, node):\n",
    "        if node:\n",
    "            self.postorder_traversal(node.left)\n",
    "            self.postorder_traversal(node.right)\n",
    "            print(node.key, end=\" \")\n",
    "\n",
    "# Example usage\n",
    "tree = BinaryTree(1)\n",
    "tree.root.left = TreeNode(2)\n",
    "tree.root.right = TreeNode(3)\n",
    "tree.root.left.left = TreeNode(4)\n",
    "tree.root.left.right = TreeNode(5)\n",
    "\n",
    "print(\"Preorder Traversal:\")\n",
    "tree.preorder_traversal(tree.root)  # Output: 1 2 4 5 3\n",
    "\n",
    "print(\"\\nInorder Traversal:\")\n",
    "tree.inorder_traversal(tree.root)   # Output: 4 2 5 1 3\n",
    "\n",
    "print(\"\\nPostorder Traversal:\")\n",
    "tree.postorder_traversal(tree.root)  # Output: 4 5 2 3 1\n"
   ]
  },
  {
   "cell_type": "markdown",
   "id": "94d4f6ac-2742-44c4-a0b7-33ab1622bfc5",
   "metadata": {},
   "source": [
    "# Graphs:\n",
    "1) \n",
    "Definition: A collection of nodes connected by edges <br>\n",
    "2) \r\n",
    "Types: Directed graphs, undirected graphs, weighted grap <br>\n",
    "3)   .\r\n",
    "Usage: Modeling relationships, network routing."
   ]
  },
  {
   "cell_type": "code",
   "execution_count": 32,
   "id": "60b07549-bfc6-4119-a980-97e3604a6610",
   "metadata": {},
   "outputs": [
    {
     "name": "stdout",
     "output_type": "stream",
     "text": [
      "A\n",
      "B\n",
      "C\n",
      "D\n",
      "E\n",
      "F\n",
      "G\n"
     ]
    }
   ],
   "source": [
    "graph = {\n",
    "    'A': ['B', 'C'],\n",
    "    'B': ['A', 'D', 'E'],\n",
    "    'C': ['A', 'F', 'G'],\n",
    "    'D': ['B'],\n",
    "    'E': ['B'],\n",
    "    'F': ['C'],\n",
    "    'G': ['C']\n",
    "}\n",
    "for i in graph:\n",
    "    print(i)"
   ]
  },
  {
   "cell_type": "code",
   "execution_count": 33,
   "id": "8e9f1bbd-1da9-49bc-ae00-0564dcd7335b",
   "metadata": {},
   "outputs": [
    {
     "name": "stdout",
     "output_type": "stream",
     "text": [
      "Depth-First Traversal:\n",
      "1 2 4 5 3 6 \n",
      "Breadth-First Traversal:\n",
      "1 2 3 4 5 6 "
     ]
    }
   ],
   "source": [
    "class Graph:\n",
    "    def __init__(self):\n",
    "        self.graph = {}\n",
    "\n",
    "    # Method to add an edge to the graph\n",
    "    def add_edge(self, vertex1, vertex2):\n",
    "        if vertex1 not in self.graph:\n",
    "            self.graph[vertex1] = []\n",
    "        if vertex2 not in self.graph:\n",
    "            self.graph[vertex2] = []\n",
    "\n",
    "        self.graph[vertex1].append(vertex2)\n",
    "        self.graph[vertex2].append(vertex1)\n",
    "\n",
    "    # Method to perform a depth-first traversal of the graph\n",
    "    def dfs(self, start, visited=None):\n",
    "        if visited is None:\n",
    "            visited = set()\n",
    "\n",
    "        visited.add(start)\n",
    "        print(start, end=\" \")\n",
    "\n",
    "        for neighbor in self.graph[start]:\n",
    "            if neighbor not in visited:\n",
    "                self.dfs(neighbor, visited)\n",
    "\n",
    "    # Method to perform a breadth-first traversal of the graph\n",
    "    def bfs(self, start):\n",
    "        visited = set()\n",
    "        queue = [start]\n",
    "\n",
    "        while queue:\n",
    "            vertex = queue.pop(0)\n",
    "            if vertex not in visited:\n",
    "                print(vertex, end=\" \")\n",
    "                visited.add(vertex)\n",
    "                queue.extend(neighbor for neighbor in self.graph[vertex] if neighbor not in visited)\n",
    "\n",
    "# Example usage\n",
    "graph = Graph()\n",
    "\n",
    "graph.add_edge(1, 2)\n",
    "graph.add_edge(1, 3)\n",
    "graph.add_edge(2, 4)\n",
    "graph.add_edge(2, 5)\n",
    "graph.add_edge(3, 6)\n",
    "\n",
    "print(\"Depth-First Traversal:\")\n",
    "graph.dfs(1)  # Output: 1 2 4 5 3 6\n",
    "\n",
    "print(\"\\nBreadth-First Traversal:\")\n",
    "graph.bfs(1)  # Output: 1 2 3 4 5 6\n"
   ]
  },
  {
   "cell_type": "markdown",
   "id": "187b0458-32bc-49e2-971b-2f0dcb04df5e",
   "metadata": {},
   "source": [
    "# Hashing:\r",
    "1) \n",
    "Definition: A technique to map data to a fixed-size array, reducing data to a hash value<br>\n",
    "2) \r\n",
    "Usage: Fast data retrieval, password storage, caching."
   ]
  },
  {
   "cell_type": "code",
   "execution_count": 18,
   "id": "54b68f57-b9b1-4b77-8a65-0afdbc479d12",
   "metadata": {},
   "outputs": [
    {
     "name": "stdout",
     "output_type": "stream",
     "text": [
      "value1\n"
     ]
    }
   ],
   "source": [
    "hash_table = {}\n",
    "hash_table['key1'] = 'value1'\n",
    "hash_table['key2'] = 'value2'\n",
    "print(hash_table['key1'])"
   ]
  },
  {
   "cell_type": "code",
   "execution_count": 34,
   "id": "a1599485-b98d-45b5-9b74-e56c6919a9df",
   "metadata": {},
   "outputs": [
    {
     "name": "stdout",
     "output_type": "stream",
     "text": [
      "Search 'apple': 5\n",
      "Search 'grape': None\n",
      "Search 'banana' after deletion: None\n"
     ]
    }
   ],
   "source": [
    "class HashTable:\n",
    "    def __init__(self, size):\n",
    "        self.size = size\n",
    "        self.table = [None] * size\n",
    "\n",
    "    def _hash(self, key):\n",
    "        return hash(key) % self.size\n",
    "\n",
    "    def insert(self, key, value):\n",
    "        index = self._hash(key)\n",
    "        if self.table[index] is None:\n",
    "            self.table[index] = []\n",
    "        self.table[index].append((key, value))\n",
    "\n",
    "    def search(self, key):\n",
    "        index = self._hash(key)\n",
    "        if self.table[index] is not None:\n",
    "            for stored_key, value in self.table[index]:\n",
    "                if stored_key == key:\n",
    "                    return value\n",
    "        return None\n",
    "\n",
    "    def delete(self, key):\n",
    "        index = self._hash(key)\n",
    "        if self.table[index] is not None:\n",
    "            for i, (stored_key, value) in enumerate(self.table[index]):\n",
    "                if stored_key == key:\n",
    "                    del self.table[index][i]\n",
    "                    return\n",
    "\n",
    "# Example usage\n",
    "hash_table = HashTable(size=10)\n",
    "\n",
    "hash_table.insert(\"apple\", 5)\n",
    "hash_table.insert(\"banana\", 8)\n",
    "hash_table.insert(\"orange\", 3)\n",
    "\n",
    "print(\"Search 'apple':\", hash_table.search(\"apple\"))  # Output: 5\n",
    "print(\"Search 'grape':\", hash_table.search(\"grape\"))  # Output: None\n",
    "\n",
    "hash_table.delete(\"banana\")\n",
    "\n",
    "print(\"Search 'banana' after deletion:\", hash_table.search(\"banana\"))  # Output: None"
   ]
  },
  {
   "cell_type": "markdown",
   "id": "8e5f32da-fe3a-4ca9-8db2-9624c0eceaad",
   "metadata": {},
   "source": [
    "# Heaps:\n",
    "1) \n",
    "Definition: A specialized tree-based data structure that satisfies the heap property<br>\n",
    "2) \r\n",
    "Types: Min heap, max hea<br>\n",
    "3) .\r\n",
    "Usage: Priority queues, scheduling tasks."
   ]
  },
  {
   "cell_type": "code",
   "execution_count": 19,
   "id": "02ad679a-e42a-4e44-97ba-5157d6146625",
   "metadata": {},
   "outputs": [
    {
     "name": "stdout",
     "output_type": "stream",
     "text": [
      "1\n"
     ]
    }
   ],
   "source": [
    "import heapq\n",
    "\n",
    "heap = [3, 1, 4, 1, 5, 9, 2]\n",
    "heapq.heapify(heap)  # Convert list to a min heap\n",
    "print(heapq.heappop(heap))  # Pop and return smallest element"
   ]
  },
  {
   "cell_type": "code",
   "execution_count": 35,
   "id": "bcd01e5c-cf41-4564-89d4-2005a177c06b",
   "metadata": {},
   "outputs": [
    {
     "name": "stdout",
     "output_type": "stream",
     "text": [
      "Min Heap: [1, 2, 7, 4]\n",
      "Extracted Min Value: 1\n",
      "Min Heap after extraction: [2, 4, 7]\n"
     ]
    }
   ],
   "source": [
    "import heapq\n",
    "\n",
    "class MinHeap:\n",
    "    def __init__(self):\n",
    "        self.heap = []\n",
    "\n",
    "    def insert(self, value):\n",
    "        heapq.heappush(self.heap, value)\n",
    "\n",
    "    def extract_min(self):\n",
    "        if self.heap:\n",
    "            return heapq.heappop(self.heap)\n",
    "        else:\n",
    "            return None\n",
    "\n",
    "# Example usage\n",
    "min_heap = MinHeap()\n",
    "\n",
    "min_heap.insert(4)\n",
    "min_heap.insert(2)\n",
    "min_heap.insert(7)\n",
    "min_heap.insert(1)\n",
    "\n",
    "print(\"Min Heap:\", min_heap.heap)  # Output: [1, 2, 7, 4]\n",
    "\n",
    "min_value = min_heap.extract_min()\n",
    "print(\"Extracted Min Value:\", min_value)  # Output: 1\n",
    "\n",
    "print(\"Min Heap after extraction:\", min_heap.heap)  # Output: [2, 4, 7]\n"
   ]
  },
  {
   "cell_type": "markdown",
   "id": "d889895c-15b2-4d1e-a969-4ebff6441d59",
   "metadata": {},
   "source": [
    "# Trie:\n",
    "1) \n",
    "Definition: A tree-like data structure that is used to store a dynamic set or associative array<br>\n",
    "2) \r\n",
    "Usage: Efficiently store and search strings."
   ]
  },
  {
   "cell_type": "code",
   "execution_count": 21,
   "id": "2e1228af-1e4b-4b9c-9f48-d88fd051277c",
   "metadata": {},
   "outputs": [
    {
     "name": "stdout",
     "output_type": "stream",
     "text": [
      "<__main__.Trie object at 0x00000160F75FDE90>\n",
      "<__main__.Trie object at 0x00000160F75FDE90>\n",
      "<__main__.Trie object at 0x00000160F75FDE90>\n",
      "<__main__.Trie object at 0x00000160F75FDE90>\n"
     ]
    }
   ],
   "source": [
    "class TrieNode:\n",
    "    def __init__(self):\n",
    "        self.children = {}\n",
    "        self.is_end_of_word = False\n",
    "\n",
    "class Trie:\n",
    "    def __init__(self):\n",
    "        self.root = TrieNode()\n",
    "\n",
    "    def insert(self, word):\n",
    "        node = self.root\n",
    "        for char in word:\n",
    "            if char not in node.children:\n",
    "                node.children[char] = TrieNode()\n",
    "            node = node.children[char]\n",
    "        node.is_end_of_word = True\n",
    "\n",
    "# Creating a trie and inserting words\n",
    "trie = Trie()\n",
    "words = [\"apple\", \"app\", \"apricot\", \"banana\"]\n",
    "for word in words:\n",
    "    trie.insert(word)\n",
    "    print(trie)"
   ]
  },
  {
   "cell_type": "markdown",
   "id": "75f5c48d-e248-4f50-8502-bd251bc49785",
   "metadata": {},
   "source": [
    "# Sets and Maps:\n",
    "1) \n",
    "Sets: A collection of distinct elements<br>\n",
    "2) \r\n",
    "Maps (or Dictionaries): Collection of key-value pair<br>\n",
    "3) .\r\n",
    "Usage: Quick lookups, data storage."
   ]
  },
  {
   "cell_type": "code",
   "execution_count": 22,
   "id": "f29c7110-5513-4b72-bde3-28aa4c043bdb",
   "metadata": {},
   "outputs": [],
   "source": [
    "# Set\n",
    "my_set = {1, 2, 3, 4, 5}\n",
    "my_set.add(6)\n",
    "my_set.remove(3)\n",
    "\n",
    "# Map (Dictionary)\n",
    "my_dict = {'one': 1, 'two': 2, 'three': 3}\n",
    "my_dict['four'] = 4\n",
    "del my_dict['two']"
   ]
  },
  {
   "cell_type": "markdown",
   "id": "866ed98c-dec9-4221-97b2-68208ba16ae0",
   "metadata": {},
   "source": [
    "# Dynamic Programming:\n",
    "1) \n",
    "Definition: A method for solving problems by breaking them down into simpler overlapping subproblems<br>\n",
    "2) \r\n",
    "Usage: Optimization problems, shortest path problems."
   ]
  },
  {
   "cell_type": "code",
   "execution_count": 23,
   "id": "d6a22dc7-234d-4108-93cc-4aa809da7007",
   "metadata": {},
   "outputs": [
    {
     "name": "stdout",
     "output_type": "stream",
     "text": [
      "5\n",
      "3\n"
     ]
    }
   ],
   "source": [
    "# Fibonacci using memoization\n",
    "def fib(n, memo={}):\n",
    "    if n in memo:\n",
    "        return memo[n]\n",
    "    if n <= 2:\n",
    "        return 1\n",
    "    memo[n] = fib(n-1, memo) + fib(n-2, memo)\n",
    "    return memo[n]\n",
    "\n",
    "print(fib(5))  # Output: 5\n",
    "\n",
    "# Dynamic programming for coin change problem\n",
    "def coin_change(coins, amount):\n",
    "    dp = [float('inf')] * (amount + 1)\n",
    "    dp[0] = 0\n",
    "\n",
    "    for coin in coins:\n",
    "        for i in range(coin, amount + 1):\n",
    "            dp[i] = min(dp[i], dp[i - coin] + 1)\n",
    "\n",
    "    return dp[amount] if dp[amount] != float('inf') else -1\n",
    "\n",
    "coins = [1, 2, 5]\n",
    "amount = 11\n",
    "print(coin_change(coins, amount))  # Output: 3\n"
   ]
  },
  {
   "cell_type": "markdown",
   "id": "0a01949b-7559-40ca-9a5f-e7533faf72cd",
   "metadata": {},
   "source": [
    "# Disjoint Set (Union-Find):\r",
    "1) \n",
    "Definition: A data structure that keeps track of a set of elements partitioned into disjoint subsets<br>\n",
    "2) \r\n",
    "Operations: Union (merge sets), find (determine which set an element belongs to<br>\n",
    "3) .\r\n",
    "Usage: Connected components in graphs, Kruskal's algorithm"
   ]
  },
  {
   "cell_type": "code",
   "execution_count": 24,
   "id": "2bae82a1-4983-4ef3-bc0b-f1ad0899bc83",
   "metadata": {},
   "outputs": [
    {
     "name": "stdout",
     "output_type": "stream",
     "text": [
      "True\n"
     ]
    }
   ],
   "source": [
    "class DisjointSet:\n",
    "    def __init__(self, n):\n",
    "        self.parent = [i for i in range(n)]\n",
    "\n",
    "    def find(self, x):\n",
    "        if self.parent[x] != x:\n",
    "            self.parent[x] = self.find(self.parent[x])\n",
    "        return self.parent[x]\n",
    "\n",
    "    def union(self, x, y):\n",
    "        root_x = self.find(x)\n",
    "        root_y = self.find(y)\n",
    "        if root_x != root_y:\n",
    "            self.parent[root_x] = root_y\n",
    "\n",
    "# Example usage\n",
    "n = 5\n",
    "ds = DisjointSet(n)\n",
    "ds.union(0, 1)\n",
    "ds.union(1, 2)\n",
    "ds.union(3, 4)\n",
    "print(ds.find(0) == ds.find(2))  # Output: True\n"
   ]
  }
 ],
 "metadata": {
  "kernelspec": {
   "display_name": "geo_env",
   "language": "python",
   "name": "geo_env"
  },
  "language_info": {
   "codemirror_mode": {
    "name": "ipython",
    "version": 3
   },
   "file_extension": ".py",
   "mimetype": "text/x-python",
   "name": "python",
   "nbconvert_exporter": "python",
   "pygments_lexer": "ipython3",
   "version": "3.11.4"
  }
 },
 "nbformat": 4,
 "nbformat_minor": 5
}
